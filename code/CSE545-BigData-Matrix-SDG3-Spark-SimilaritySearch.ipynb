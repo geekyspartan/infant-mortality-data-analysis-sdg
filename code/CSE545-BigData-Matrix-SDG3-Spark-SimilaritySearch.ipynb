{
 "cells": [
  {
   "cell_type": "markdown",
   "metadata": {
    "collapsed": true
   },
   "source": [
    "## CSE545-SDG3-Team-Matrix\n"
   ]
  },
  {
   "cell_type": "code",
   "execution_count": 1,
   "metadata": {},
   "outputs": [],
   "source": [
    "import findspark\n",
    "findspark.init()\n",
    "import pyspark\n",
    "from pyspark.sql import SQLContext\n",
    "from pyspark.sql.types import *\n",
    "import numpy as np\n",
    "import pandas as pd\n",
    "import scipy\n",
    "import matplotlib.pyplot as plt\n",
    "import seaborn as sns\n",
    "from pyspark.sql.functions import *\n",
    "from pyspark.sql.window import *\n",
    "from pyspark.sql.types import *\n",
    "import os"
   ]
  },
  {
   "cell_type": "code",
   "execution_count": 2,
   "metadata": {},
   "outputs": [],
   "source": [
    "sconf = pyspark.SparkConf()\n",
    "sc = pyspark.SparkContext(appName=\"SDG3-TeamMatrix\")\n",
    "sqlCtx = SQLContext(sc)\n",
    "#sconf.set(\"spark.driver.maxResultSize\", \"5g\")\n",
    "#sconf.set(\"spark.driver.memory\", \"5g\")"
   ]
  },
  {
   "cell_type": "code",
   "execution_count": 3,
   "metadata": {},
   "outputs": [
    {
     "name": "stdout",
     "output_type": "stream",
     "text": [
      "../LinkPE14US/VS14LINK.USMERGEDPUB\n"
     ]
    },
    {
     "data": {
      "text/plain": [
       "26085"
      ]
     },
     "execution_count": 3,
     "metadata": {},
     "output_type": "execute_result"
    }
   ],
   "source": [
    "data_path = r'../LinkPE14US'\n",
    "#print(os.path.join(data_path, \"*.*PUB\"))#all\n",
    "print(os.path.join(data_path, \"VS14LINK.USMERGEDPUB\"))#*.*PUB\n",
    "#df = sqlCtx.read.text(os.path.join(data_path, \"*.*PUB\"))  #all #*.*PUB\n",
    "df = sqlCtx.read.text(os.path.join(data_path, \"VS14LINK.USMERGEDPUB\"))  #merged\n",
    "#df = sqlCtx.read.text(os.path.join(data_path, \"VS14LINK.USNUMPUB\"))  #350 mb\n",
    "#df = sqlCtx.read.text(\"/VS14LINK.USDENPUB\") # 5gb\n",
    "#df = sqlCtx.read.text(\"/*.*PUB\") # both\n",
    "\n",
    "df.count()\n"
   ]
  },
  {
   "cell_type": "code",
   "execution_count": 4,
   "metadata": {},
   "outputs": [],
   "source": [
    "def blank_as_Y(x):\n",
    "    return when(col(x) == '', 'Y').otherwise('N') # 1 == alive, 0 == demised for ICD10"
   ]
  },
  {
   "cell_type": "code",
   "execution_count": 5,
   "metadata": {},
   "outputs": [
    {
     "name": "stdout",
     "output_type": "stream",
     "text": [
      "number of features  1\n"
     ]
    }
   ],
   "source": [
    "# pandas data frame after adding column metadata\n",
    "#pndf type = pyspark.sql.dataframe.DataFrame\n",
    "pndf = df.select(\n",
    "    df.value.substr(9,4).cast(IntegerType()).alias('Birth_Year'),\n",
    "    df.value.substr(13,2).cast(IntegerType()).alias('Birth_Month'),\n",
    "    df.value.substr(19,4).cast(IntegerType()).alias('Time_of_Birth'),\n",
    "    df.value.substr(23,1).cast(IntegerType()).alias('Birth_DOW'),\n",
    "    df.value.substr(32,1).cast(IntegerType()).alias('Birth_Place'),\n",
    "    df.value.substr(50,1).cast(IntegerType()).alias('Facility_Recode'),\n",
    "    df.value.substr(75,2).cast(IntegerType()).alias('Mothers_Age_Recode'),\n",
    "    df.value.substr(84,1).cast(IntegerType()).alias('Mothers_Nativity'),\n",
    "    df.value.substr(104,1).cast(IntegerType()).alias('Residence_Status'),\n",
    "    df.value.substr(105,2).cast(IntegerType()).alias('Mothers_Race'),\n",
    "    df.value.substr(110,1).cast(IntegerType()).alias('Bridge_Race_Mother'),\n",
    "    df.value.substr(115,1).cast(IntegerType()).alias('Mothers_Hispanic_Origin_Recode'),\n",
    "    df.value.substr(119,1).cast(IntegerType()).alias('Paternity_Ack'),\n",
    "    df.value.substr(120,1).cast(IntegerType()).alias('Marital_Status'),\n",
    "    df.value.substr(124,1).cast(IntegerType()).alias('Mothers_Education'),\n",
    "    df.value.substr(147,2).cast(IntegerType()).alias('Fathers_Age'),\n",
    "    df.value.substr(149,2).cast(IntegerType()).alias('Fathers_Age_Recode'),\n",
    "    df.value.substr(151,2).cast(IntegerType()).alias('Fathers_Race_Recode'),\n",
    "    df.value.substr(156,1).cast(IntegerType()).alias('Bridge_Race_Father'),\n",
    "    df.value.substr(160,1).cast(IntegerType()).alias('Fathers_Hispanic_Origin_Recode'),\n",
    "    df.value.substr(163,1).cast(IntegerType()).alias('Fathers_Education'),\n",
    "    df.value.substr(171,2).cast(IntegerType()).alias('Prior_Births_Living'),\n",
    "    df.value.substr(173,2).cast(IntegerType()).alias('Prior_Births_Dead'),\n",
    "    df.value.substr(175,2).cast(IntegerType()).alias('Prior_Other_Terminations'),\n",
    "    df.value.substr(179,1).cast(IntegerType()).alias('Live_Birth_Order_Recode'),\n",
    "    df.value.substr(182,1).cast(IntegerType()).alias('Total_Birth_Order_Recode'),\n",
    "    df.value.substr(198,3).cast(IntegerType()).alias('Interval_Last_Live_Birth_Recode'),\n",
    "    df.value.substr(201,2).cast(IntegerType()).alias('Interval_Last_Live_Birth_Recode11'),\n",
    "    df.value.substr(206,3).cast(IntegerType()).alias('Interval_Last_Other_Pregnancy_Recode'),\n",
    "    df.value.substr(209,2).cast(IntegerType()).alias('Interval_Last_Other_Pregnancy_Recode11'),\n",
    "    df.value.substr(214,3).cast(IntegerType()).alias('Interval_Last_Pregnancy_Recode'),\n",
    "    df.value.substr(217,2).cast(IntegerType()).alias('Interval_Last_Pregnancy_Recode11'),\n",
    "    df.value.substr(238,2).cast(IntegerType()).alias('Num_Prenatal_Visits'),\n",
    "    df.value.substr(242,2).cast(IntegerType()).alias('Num_Prenatal_Visits_Recode'),\n",
    "    df.value.substr(253,2).cast(IntegerType()).alias('Cigarettes_Before_Pregnancy'),\n",
    "    df.value.substr(255,2).cast(IntegerType()).alias('Cigarettes_1st_Trimester'),\n",
    "    df.value.substr(257,2).cast(IntegerType()).alias('Cigarettes_2nd_Trimester'),\n",
    "    df.value.substr(259,2).cast(IntegerType()).alias('Cigarettes_3rd_Trimester'),\n",
    "    df.value.substr(261,1).cast(IntegerType()).alias('Cigarettes_Before_Pregnancy_Recode'),\n",
    "    df.value.substr(262,1).cast(IntegerType()).alias('Cigarettes_1st_Trimester_Recode'),\n",
    "    df.value.substr(263,1).cast(IntegerType()).alias('Cigarettes_2nd_Trimester_Recode'),\n",
    "    df.value.substr(264,1).cast(IntegerType()).alias('Cigarettes_3rd_Trimester_Recode'),\n",
    "    df.value.substr(280,2).cast(IntegerType()).alias('Mothers_Height_Inches'),\n",
    "    df.value.substr(287,1).cast(IntegerType()).alias('BMI_Recode'),\n",
    "    df.value.substr(292,3).cast(IntegerType()).alias('Pre_Pregnancy_Weight_Recode'),\n",
    "    df.value.substr(299,3).cast(IntegerType()).alias('Delivery_Weight_Recode'),\n",
    "    df.value.substr(304,2).cast(IntegerType()).alias('Weight_Gain'),\n",
    "    df.value.substr(306,1).cast(IntegerType()).alias('Weight_Gain_Recode'),\n",
    "    df.value.substr(313,1).cast(StringType()).alias('Pre_Pregnancy_Diabetes'),\n",
    "    df.value.substr(314,1).cast(StringType()).alias('Gestational_Diabetes'),\n",
    "    df.value.substr(315,1).cast(StringType()).alias('Pre_Pregnancy_Hypertension'),\n",
    "    df.value.substr(316,1).cast(StringType()).alias('Gestational_Hypertension'),\n",
    "    df.value.substr(317,1).cast(StringType()).alias('Hypertension_Eclmapsia'),\n",
    "    df.value.substr(318,1).cast(StringType()).alias('Previous_Preterm_Birth'),\n",
    "    df.value.substr(325,1).cast(StringType()).alias('Infertility_Treatment'),\n",
    "    df.value.substr(326,1).cast(StringType()).alias('Fertility_Enhancing_Drugs'),\n",
    "    df.value.substr(327,1).cast(StringType()).alias('Assistive_Reproductive_Technology'),\n",
    "    df.value.substr(331,1).cast(StringType()).alias('Prev_Cesareans'),\n",
    "    df.value.substr(332,2).cast(IntegerType()).alias('Num_Prev_Cesareans'),\n",
    "    df.value.substr(337,1).cast(StringType()).alias('No_Risk_Factors_Checked'),\n",
    "    \n",
    "    df.value.substr(343,1).cast(StringType()).alias('Gonorrhea'),\n",
    "    df.value.substr(344,1).cast(StringType()).alias('Syphillis'),\n",
    "    df.value.substr(345,1).cast(StringType()).alias('Chlamydia'),\n",
    "    df.value.substr(346,1).cast(StringType()).alias('HepatitisB'),\n",
    "    df.value.substr(347,1).cast(StringType()).alias('HepatitisC'),\n",
    "    df.value.substr(353,1).cast(StringType()).alias('No_Infections_Checked'),\n",
    "    df.value.substr(360,1).cast(StringType()).alias('Sucessful_External_Cephalic_Version'),\n",
    "    df.value.substr(361,1).cast(StringType()).alias('Failed_External_Cephalic_Version'),\n",
    "    \n",
    "    df.value.substr(383,1).cast(StringType()).alias('Induction_Of_Labor'),\n",
    "    df.value.substr(384,1).cast(StringType()).alias('Augmentation_Of_Labor'),\n",
    "    df.value.substr(385,1).cast(StringType()).alias('Steroids_Mother'),\n",
    "    df.value.substr(386,1).cast(StringType()).alias('Antibiotics_Mother'),\n",
    "    df.value.substr(386,1).cast(StringType()).alias('Chorioamnionitis_Mother'),\n",
    "    df.value.substr(387,1).cast(StringType()).alias('Anesthesia_Mother'),\n",
    "    df.value.substr(395,1).cast(StringType()).alias('No_Labor_Checked'),\n",
    "    df.value.substr(401,1).cast(IntegerType()).alias('Fetal_Presentation'),\n",
    "    df.value.substr(402,1).cast(IntegerType()).alias('Final_Route_and_Method_Of_Delivery'),\n",
    "    df.value.substr(403,1).cast(IntegerType()).alias('Trail_Of_Labor_Attempted'),\n",
    "    df.value.substr(407,1).cast(IntegerType()).alias('Delivery_Method_Recode'),\n",
    "    df.value.substr(415,1).cast(StringType()).alias('Maternal_Transfusion'),\n",
    "    df.value.substr(416,1).cast(StringType()).alias('Perineal_Laceration'),\n",
    "    df.value.substr(417,1).cast(StringType()).alias('Ruptured_Uterus'),\n",
    "    df.value.substr(418,1).cast(StringType()).alias('Unplanned_Hysterectomy'),\n",
    "    df.value.substr(419,1).cast(StringType()).alias('Admit_to_Intensive_Care'),\n",
    "    df.value.substr(427,1).cast(IntegerType()).alias('No_Maternal_Morbidity_Checked'),\n",
    "    df.value.substr(433,1).cast(IntegerType()).alias('Attendant'),\n",
    "    df.value.substr(434,1).cast(StringType()).alias('Mother_Transferred'),\n",
    "\n",
    "    \n",
    "    #435 - 870\n",
    "    df.value.substr(435,1).cast(IntegerType()).alias('Payment_Source'),\n",
    "    df.value.substr(436,1).cast(IntegerType()).alias('Payment_Recode'),\n",
    "    df.value.substr(444,2).cast(IntegerType()).alias('Five_Minute_APGAR_Score'),\n",
    "    df.value.substr(446,1).cast(IntegerType()).alias('Five_Minute_APGAR_Recode'),\n",
    "    df.value.substr(448,2).cast(IntegerType()).alias('Ten_Minute_APGAR_Score'),\n",
    "    df.value.substr(450,1).cast(IntegerType()).alias('Ten_Minute_APGAR_Recode'),\n",
    "    df.value.substr(454,1).cast(IntegerType()).alias('Plurality'),\n",
    "    df.value.substr(475,1).cast(StringType()).alias('Sex_Of_Infant'),\n",
    "    df.value.substr(477,2).cast(IntegerType()).alias('Last_Normal_Menses_Month'),\n",
    "    df.value.substr(481,4).cast(IntegerType()).alias('Last_Normal_Menses_Year'),\n",
    "    df.value.substr(489,1).cast(IntegerType()).alias('Obstetric_Estimate_of_Gestation_Used_Flag'),\n",
    "    df.value.substr(490,2).cast(IntegerType()).alias('Combined_Gestation_Detail_in_Weeks'),\n",
    "    df.value.substr(492,1).cast(IntegerType()).alias('Combined_Gestation_Recode_Weeks'),\n",
    "    df.value.substr(509,2).cast(IntegerType()).alias('Birth_Weight_Recode_14'),\n",
    "    df.value.substr(511,1).cast(IntegerType()).alias('Birth_Weight_Recode_4'),\n",
    "    df.value.substr(512,4).cast(IntegerType()).alias('Imputed_Birthwieght'),\n",
    "    #Abnormal Conditions of the Newborn\n",
    "    df.value.substr(517,1).cast(StringType()).alias('Assisted_Ventilation'),\n",
    "    df.value.substr(518,1).cast(StringType()).alias('Assisted_Ventilation_Greater_Than_6_Hours'),\n",
    "    df.value.substr(519,1).cast(StringType()).alias('Admission_to_NICU'),\n",
    "    df.value.substr(520,1).cast(StringType()).alias('Surfactant'),\n",
    "    df.value.substr(521,1).cast(StringType()).alias('Antibiotics'),\n",
    "    df.value.substr(522,1).cast(StringType()).alias('Seizures'),\n",
    "    df.value.substr(531,1).cast(IntegerType()).alias('No_Abnormal_Conditions_Checked'),\n",
    "    #Congenital Anomalies of the Newborn\n",
    "    df.value.substr(537,1).cast(StringType()).alias('Anencephaly'),\n",
    "    df.value.substr(538,1).cast(StringType()).alias('Meningomyelocele_or_Spina_Bifida'),\n",
    "    df.value.substr(539,1).cast(StringType()).alias('Cyanotic_Congenital_Heart_Disease'),\n",
    "    df.value.substr(540,1).cast(StringType()).alias('Congenital_Diaphragmatic_Hernia'),\n",
    "    df.value.substr(541,1).cast(StringType()).alias('Omphalocele'),\n",
    "    df.value.substr(542,1).cast(StringType()).alias('Gastroschisis'),\n",
    "    df.value.substr(549,1).cast(StringType()).alias('Limb_Reduction_Defect'),\n",
    "    df.value.substr(550,1).cast(StringType()).alias('Cleft_Lip_w_or_wo_Cleft_Palate'),\n",
    "    df.value.substr(551,1).cast(StringType()).alias('Cleft_Palate_alone'),\n",
    "    df.value.substr(553,1).cast(StringType()).alias('Suspected_Chromosomal_Disorder'),\n",
    "    df.value.substr(554,1).cast(StringType()).alias('Hypospadias'),\n",
    "    df.value.substr(561,1).cast(IntegerType()).alias('No_Congenital_Anomalies_Checked'),\n",
    "    df.value.substr(568,1).cast(StringType()).alias('Infant_Living_at_Time_of_Report'),\n",
    "    df.value.substr(569,1).cast(StringType()).alias('Infant_Being_Breastfed'), \n",
    "    #\n",
    "    #1330 - 1743\n",
    "    df.value.substr(1331,1).cast(IntegerType()).alias('Diabetes'),\n",
    "    df.value.substr(1332,1).cast(IntegerType()).alias('Chronic_Hypertension'),\n",
    "    df.value.substr(1333,1).cast(IntegerType()).alias('Prepregnacy_Associated_Hypertension'),\n",
    "    df.value.substr(1334,1).cast(IntegerType()).alias('Eclampsia'),\n",
    "    df.value.substr(1335,1).cast(IntegerType()).alias('Forceps'),\n",
    "    df.value.substr(1336,1).cast(IntegerType()).alias('Vacuum'),\n",
    "    df.value.substr(1337,1).cast(IntegerType()).alias('Induction_of_Labor1'),\n",
    "    df.value.substr(1338,1).cast(IntegerType()).alias('Breech1'),\n",
    "    df.value.substr(1341,1).cast(IntegerType()).alias('Spina_Bifida_Meningocele1'),\n",
    "    df.value.substr(1342,1).cast(IntegerType()).alias('Omphalocele_Gastroschisis1'),\n",
    "    \n",
    "    df.value.substr(1343,1).cast(IntegerType()).alias('Cleft_Lip_Palate1'), \n",
    "    df.value.substr(1344,1).cast(IntegerType()).alias('Diaphragmatic_Herni1a'),\n",
    "    df.value.substr(1345,1).cast(IntegerType()).alias('Down_Syndrome1'),\n",
    "    df.value.substr(1356,3).cast(IntegerType()).alias('Age_at_Death_in_Days'),\n",
    "    df.value.substr(1359,1).cast(IntegerType()).alias('Infant_age_recode_5'),\n",
    "    df.value.substr(1360,2).cast(IntegerType()).alias('Infant_age_recode_22'), \n",
    "    df.value.substr(1362,1).cast(IntegerType()).alias('Manner_of_Death'),\n",
    "    \n",
    "    df.value.substr(1366,1).cast(IntegerType()).alias('Place_of_injury_for_causes_W00_Y34_except_Y06'),\n",
    "    df.value.substr(1368,4).cast(StringType()).alias('ICD10'), #underlying cause of death - this is used to determine the LABEL for ML\n",
    "    df.value.substr(1671,1).cast(IntegerType()).alias('Day_of_Week_of_Death'),\n",
    "    df.value.substr(1672,4).cast(IntegerType()).alias('Data_Year'),\n",
    "    df.value.substr(1742,1).cast(IntegerType()).alias('Month_of_Death')\n",
    "    \n",
    "    \n",
    ").withColumn(\"id\", monotonically_increasing_id())\n",
    "\n",
    "pndf.printSchema\n",
    "pndf = pndf.na.fill({'Num_Prev_Cesareans': 0.0})\n",
    "\n",
    "# derive the infant_living column from ICD10 - must for ML prediction\n",
    "pndf = pndf.withColumn(\"Infant_Living\", blank_as_Y(\"ICD10\")) # dervied 0/1 label  # 1 == alive, 0 == demised for ICD10\n",
    "print(\"number of features \", len(df.columns))"
   ]
  },
  {
   "cell_type": "code",
   "execution_count": 6,
   "metadata": {},
   "outputs": [
    {
     "name": "stdout",
     "output_type": "stream",
     "text": [
      "11351\n",
      "+-------+-----+\n",
      "|summary|ICD10|\n",
      "+-------+-----+\n",
      "|  count|26085|\n",
      "|   mean| null|\n",
      "| stddev| null|\n",
      "|    min|     |\n",
      "|    max| Y848|\n",
      "+-------+-----+\n",
      "\n",
      "# Infants Living >>  3000\n"
     ]
    }
   ],
   "source": [
    "print(pndf.filter(pndf['Infant_Living_at_Time_of_Report']!='Y').count())\n",
    "pndf.describe(['ICD10']).show()\n",
    "print(\"# Infants Living >> \",pndf.filter(pndf['Infant_Living']=='Y').count())"
   ]
  },
  {
   "cell_type": "code",
   "execution_count": 7,
   "metadata": {},
   "outputs": [
    {
     "name": "stdout",
     "output_type": "stream",
     "text": [
      "Before cleanup count of PNDF  26085\n",
      "After fill count of PNDF  26085\n",
      "After cleanup count of PNDF  26085\n"
     ]
    },
    {
     "data": {
      "text/plain": [
       "[Row(Birth_Year=2013, Birth_Month=7, Time_of_Birth=1853, Birth_DOW=3, Birth_Place=1, Facility_Recode=1, Mothers_Age_Recode=24, Mothers_Nativity=1, Residence_Status=1, Mothers_Race=None, Bridge_Race_Mother=1, Mothers_Hispanic_Origin_Recode=0, Paternity_Ack=None, Marital_Status=1, Mothers_Education=4, Fathers_Age=22, Fathers_Age_Recode=3, Fathers_Race_Recode=None, Bridge_Race_Father=1, Fathers_Hispanic_Origin_Recode=0, Fathers_Education=2, Prior_Births_Living=0, Prior_Births_Dead=0, Prior_Other_Terminations=0, Live_Birth_Order_Recode=1, Total_Birth_Order_Recode=1, Interval_Last_Live_Birth_Recode=888, Interval_Last_Live_Birth_Recode11=88, Interval_Last_Other_Pregnancy_Recode=888, Interval_Last_Other_Pregnancy_Recode11=88, Interval_Last_Pregnancy_Recode=888, Interval_Last_Pregnancy_Recode11=88, Num_Prenatal_Visits=8, Num_Prenatal_Visits_Recode=5, Cigarettes_Before_Pregnancy=20, Cigarettes_1st_Trimester=3, Cigarettes_2nd_Trimester=1, Cigarettes_3rd_Trimester=1, Cigarettes_Before_Pregnancy_Recode=None, Cigarettes_1st_Trimester_Recode=None, Cigarettes_2nd_Trimester_Recode=None, Cigarettes_3rd_Trimester_Recode=None, Mothers_Height_Inches=65, BMI_Recode=4, Pre_Pregnancy_Weight_Recode=195, Delivery_Weight_Recode=233, Weight_Gain=38, Weight_Gain_Recode=4, Pre_Pregnancy_Diabetes='N', Gestational_Diabetes='N', Pre_Pregnancy_Hypertension='N', Gestational_Hypertension='N', Hypertension_Eclmapsia='N', Previous_Preterm_Birth='N', Infertility_Treatment='N', Fertility_Enhancing_Drugs='X', Assistive_Reproductive_Technology='X', Prev_Cesareans='N', Num_Prev_Cesareans=0, No_Risk_Factors_Checked='1', Gonorrhea='N', Syphillis='N', Chlamydia='N', HepatitisB='N', HepatitisC='N', No_Infections_Checked='1', Sucessful_External_Cephalic_Version='N', Failed_External_Cephalic_Version='N', Induction_Of_Labor='N', Augmentation_Of_Labor='Y', Steroids_Mother='N', Antibiotics_Mother='Y', Chorioamnionitis_Mother='Y', Anesthesia_Mother='N', No_Labor_Checked='0', Fetal_Presentation=1, Final_Route_and_Method_Of_Delivery=1, Trail_Of_Labor_Attempted=None, Delivery_Method_Recode=1, Maternal_Transfusion='N', Perineal_Laceration='Y', Ruptured_Uterus='N', Unplanned_Hysterectomy='N', Admit_to_Intensive_Care='N', No_Maternal_Morbidity_Checked=0, Attendant=1, Mother_Transferred='Y', Payment_Source=2, Payment_Recode=2, Five_Minute_APGAR_Score=9, Five_Minute_APGAR_Recode=4, Ten_Minute_APGAR_Score=88, Ten_Minute_APGAR_Recode=5, Plurality=1, Sex_Of_Infant='F', Last_Normal_Menses_Month=10, Last_Normal_Menses_Year=2012, Obstetric_Estimate_of_Gestation_Used_Flag=None, Combined_Gestation_Detail_in_Weeks=42, Combined_Gestation_Recode_Weeks=1, Birth_Weight_Recode_14=11, Birth_Weight_Recode_4=3, Imputed_Birthwieght=4119, Assisted_Ventilation='N', Assisted_Ventilation_Greater_Than_6_Hours='N', Admission_to_NICU='N', Surfactant='N', Antibiotics='N', Seizures='N', No_Abnormal_Conditions_Checked=1, Anencephaly='N', Meningomyelocele_or_Spina_Bifida='N', Cyanotic_Congenital_Heart_Disease='N', Congenital_Diaphragmatic_Hernia='N', Omphalocele='N', Gastroschisis='N', Limb_Reduction_Defect='N', Cleft_Lip_w_or_wo_Cleft_Palate='N', Cleft_Palate_alone='N', Suspected_Chromosomal_Disorder='N', Hypospadias='N', No_Congenital_Anomalies_Checked=1, Infant_Living_at_Time_of_Report='Y', Infant_Being_Breastfed='Y', Diabetes=2, Chronic_Hypertension=2, Prepregnacy_Associated_Hypertension=2, Eclampsia=2, Forceps=2, Vacuum=2, Induction_of_Labor1=2, Breech1=2, Spina_Bifida_Meningocele1=2, Omphalocele_Gastroschisis1=2, Cleft_Lip_Palate1=2, Diaphragmatic_Herni1a=2, Down_Syndrome1=2, Age_at_Death_in_Days=172, Infant_age_recode_5=5, Infant_age_recode_22=16, Manner_of_Death=5, Place_of_injury_for_causes_W00_Y34_except_Y06=None, ICD10='R99 ', Day_of_Week_of_Death=7, Data_Year=2014, Month_of_Death=0, id=0, Infant_Living='N', Limb_Reduction_Defect_numeric=0.0, Induction_Of_Labor_numeric=0.0, Sucessful_External_Cephalic_Version_numeric=0.0, Meningomyelocele_or_Spina_Bifida_numeric=0.0, Steroids_Mother_numeric=0.0, Anesthesia_Mother_numeric=0.0, Pre_Pregnancy_Hypertension_numeric=0.0, Omphalocele_numeric=0.0, Ruptured_Uterus_numeric=0.0, Cleft_Lip_w_or_wo_Cleft_Palate_numeric=0.0, Chlamydia_numeric=0.0, Unplanned_Hysterectomy_numeric=0.0, Infant_Being_Breastfed_numeric=1.0, HepatitisC_numeric=0.0, Anencephaly_numeric=0.0, Gestational_Diabetes_numeric=0.0, Surfactant_numeric=0.0, Syphillis_numeric=0.0, Admit_to_Intensive_Care_numeric=0.0, Assistive_Reproductive_Technology_numeric=0.0, Gastroschisis_numeric=0.0, Prev_Cesareans_numeric=0.0, Antibiotics_numeric=0.0, Hypospadias_numeric=0.0, Infant_Living_numeric=0.0, Perineal_Laceration_numeric=3.0, Infertility_Treatment_numeric=0.0, Previous_Preterm_Birth_numeric=0.0, Assisted_Ventilation_Greater_Than_6_Hours_numeric=0.0, Chorioamnionitis_Mother_numeric=1.0, Maternal_Transfusion_numeric=0.0, Sex_Of_Infant_numeric=1.0, Antibiotics_Mother_numeric=1.0, No_Risk_Factors_Checked_numeric=0.0, Assisted_Ventilation_numeric=0.0, HepatitisB_numeric=0.0, Cleft_Palate_alone_numeric=0.0, Cyanotic_Congenital_Heart_Disease_numeric=0.0, Gonorrhea_numeric=0.0, Failed_External_Cephalic_Version_numeric=0.0, Congenital_Diaphragmatic_Hernia_numeric=0.0, ICD10_numeric=3.0, Seizures_numeric=0.0, Gestational_Hypertension_numeric=0.0, Infant_Living_at_Time_of_Report_numeric=0.0, Suspected_Chromosomal_Disorder_numeric=0.0, No_Infections_Checked_numeric=0.0, Pre_Pregnancy_Diabetes_numeric=0.0, Augmentation_Of_Labor_numeric=1.0, Fertility_Enhancing_Drugs_numeric=0.0, No_Labor_Checked_numeric=0.0, Admission_to_NICU_numeric=0.0, Mother_Transferred_numeric=1.0, Hypertension_Eclmapsia_numeric=0.0, label=0.0)]"
      ]
     },
     "execution_count": 7,
     "metadata": {},
     "output_type": "execute_result"
    }
   ],
   "source": [
    "from pyspark.ml.feature import StringIndexer\n",
    "from pyspark.ml import Pipeline\n",
    "\n",
    "print(\"Before cleanup count of PNDF \",pndf.count())\n",
    "pndf = pndf.na.fill(\"NA\") #pndf.na.fill(\"0.0\") pndf.na.drop()\n",
    "print(\"After fill count of PNDF \",pndf.count())\n",
    "\n",
    "# String Indexer .setHandleInvalid(\"keep\")\n",
    "stringColumns = ['Pre_Pregnancy_Diabetes','Gestational_Diabetes','Pre_Pregnancy_Hypertension', 'Gestational_Hypertension',\\\n",
    "                'Hypertension_Eclmapsia','Previous_Preterm_Birth','Infertility_Treatment','Fertility_Enhancing_Drugs',\\\n",
    "                'Assistive_Reproductive_Technology', 'Prev_Cesareans','No_Risk_Factors_Checked','Sex_Of_Infant','Assisted_Ventilation',\\\n",
    "                'Assisted_Ventilation_Greater_Than_6_Hours', 'Admission_to_NICU','Surfactant','Antibiotics','Seizures','Anencephaly',\\\n",
    "                'Meningomyelocele_or_Spina_Bifida','Cyanotic_Congenital_Heart_Disease','Congenital_Diaphragmatic_Hernia',\\\n",
    "                'Omphalocele','Gastroschisis','Limb_Reduction_Defect','Cleft_Lip_w_or_wo_Cleft_Palate','Cleft_Palate_alone',\\\n",
    "                'Suspected_Chromosomal_Disorder','Hypospadias','Infant_Living_at_Time_of_Report','Infant_Being_Breastfed',\\\n",
    "                 'Gonorrhea','Syphillis','Chlamydia','HepatitisB','HepatitisC','No_Infections_Checked','Sucessful_External_Cephalic_Version',\\\n",
    "                 'Failed_External_Cephalic_Version','Induction_Of_Labor','Augmentation_Of_Labor','Steroids_Mother','Antibiotics_Mother','Chorioamnionitis_Mother',\\\n",
    "                 'Anesthesia_Mother','No_Labor_Checked','Maternal_Transfusion','Perineal_Laceration','Ruptured_Uterus','Unplanned_Hysterectomy',\\\n",
    "                 'Admit_to_Intensive_Care','Mother_Transferred','ICD10', 'Infant_Living']\n",
    "indexers = [StringIndexer(inputCol=column, outputCol=column+\"_numeric\").fit(pndf) for column in list(  set(stringColumns)) ]\n",
    "label_stringIndexer = StringIndexer(inputCol=\"Infant_Living\", outputCol='label') # TODO Change to 'Infant_Living' after fixing cleanup\n",
    "indexers.append(label_stringIndexer)\n",
    "\n",
    "pipeline = Pipeline(stages=indexers)\n",
    "pndf = pipeline.fit(pndf).transform(pndf)\n",
    "print(\"After cleanup count of PNDF \",pndf.count())\n",
    "pndf.head(1)\n"
   ]
  },
  {
   "cell_type": "code",
   "execution_count": 8,
   "metadata": {},
   "outputs": [
    {
     "data": {
      "text/plain": [
       "Row(Birth_Year=2013, Birth_Month=7, Time_of_Birth=1853, Birth_DOW=3, Birth_Place=1, Facility_Recode=1, Mothers_Age_Recode=24, Mothers_Nativity=1, Residence_Status=1, Mothers_Race=-1, Bridge_Race_Mother=1, Mothers_Hispanic_Origin_Recode=0, Paternity_Ack=-1, Marital_Status=1, Mothers_Education=4, Fathers_Age=22, Fathers_Age_Recode=3, Fathers_Race_Recode=-1, Bridge_Race_Father=1, Fathers_Hispanic_Origin_Recode=0, Fathers_Education=2, Prior_Births_Living=0, Prior_Births_Dead=0, Prior_Other_Terminations=0, Live_Birth_Order_Recode=1, Total_Birth_Order_Recode=1, Interval_Last_Live_Birth_Recode=888, Interval_Last_Live_Birth_Recode11=88, Interval_Last_Other_Pregnancy_Recode=888, Interval_Last_Other_Pregnancy_Recode11=88, Interval_Last_Pregnancy_Recode=888, Interval_Last_Pregnancy_Recode11=88, Num_Prenatal_Visits=8, Num_Prenatal_Visits_Recode=5, Cigarettes_Before_Pregnancy=20, Cigarettes_1st_Trimester=3, Cigarettes_2nd_Trimester=1, Cigarettes_3rd_Trimester=1, Cigarettes_Before_Pregnancy_Recode=-1, Cigarettes_1st_Trimester_Recode=-1, Cigarettes_2nd_Trimester_Recode=-1, Cigarettes_3rd_Trimester_Recode=-1, Mothers_Height_Inches=65, BMI_Recode=4, Pre_Pregnancy_Weight_Recode=195, Delivery_Weight_Recode=233, Weight_Gain=38, Weight_Gain_Recode=4, Pre_Pregnancy_Diabetes='N', Gestational_Diabetes='N', Pre_Pregnancy_Hypertension='N', Gestational_Hypertension='N', Hypertension_Eclmapsia='N', Previous_Preterm_Birth='N', Infertility_Treatment='N', Fertility_Enhancing_Drugs='X', Assistive_Reproductive_Technology='X', Prev_Cesareans='N', Num_Prev_Cesareans=0, No_Risk_Factors_Checked='1', Gonorrhea='N', Syphillis='N', Chlamydia='N', HepatitisB='N', HepatitisC='N', No_Infections_Checked='1', Sucessful_External_Cephalic_Version='N', Failed_External_Cephalic_Version='N', Induction_Of_Labor='N', Augmentation_Of_Labor='Y', Steroids_Mother='N', Antibiotics_Mother='Y', Chorioamnionitis_Mother='Y', Anesthesia_Mother='N', No_Labor_Checked='0', Fetal_Presentation=1, Final_Route_and_Method_Of_Delivery=1, Trail_Of_Labor_Attempted=-1, Delivery_Method_Recode=1, Maternal_Transfusion='N', Perineal_Laceration='Y', Ruptured_Uterus='N', Unplanned_Hysterectomy='N', Admit_to_Intensive_Care='N', No_Maternal_Morbidity_Checked=0, Attendant=1, Mother_Transferred='Y', Payment_Source=2, Payment_Recode=2, Five_Minute_APGAR_Score=9, Five_Minute_APGAR_Recode=4, Ten_Minute_APGAR_Score=88, Ten_Minute_APGAR_Recode=5, Plurality=1, Sex_Of_Infant='F', Last_Normal_Menses_Month=10, Last_Normal_Menses_Year=2012, Obstetric_Estimate_of_Gestation_Used_Flag=-1, Combined_Gestation_Detail_in_Weeks=42, Combined_Gestation_Recode_Weeks=1, Birth_Weight_Recode_14=11, Birth_Weight_Recode_4=3, Imputed_Birthwieght=4119, Assisted_Ventilation='N', Assisted_Ventilation_Greater_Than_6_Hours='N', Admission_to_NICU='N', Surfactant='N', Antibiotics='N', Seizures='N', No_Abnormal_Conditions_Checked=1, Anencephaly='N', Meningomyelocele_or_Spina_Bifida='N', Cyanotic_Congenital_Heart_Disease='N', Congenital_Diaphragmatic_Hernia='N', Omphalocele='N', Gastroschisis='N', Limb_Reduction_Defect='N', Cleft_Lip_w_or_wo_Cleft_Palate='N', Cleft_Palate_alone='N', Suspected_Chromosomal_Disorder='N', Hypospadias='N', No_Congenital_Anomalies_Checked=1, Infant_Living_at_Time_of_Report='Y', Infant_Being_Breastfed='Y', Diabetes=2, Chronic_Hypertension=2, Prepregnacy_Associated_Hypertension=2, Eclampsia=2, Forceps=2, Vacuum=2, Induction_of_Labor1=2, Breech1=2, Spina_Bifida_Meningocele1=2, Omphalocele_Gastroschisis1=2, Cleft_Lip_Palate1=2, Diaphragmatic_Herni1a=2, Down_Syndrome1=2, Age_at_Death_in_Days=172, Infant_age_recode_5=5, Infant_age_recode_22=16, Manner_of_Death=5, Place_of_injury_for_causes_W00_Y34_except_Y06=-1, ICD10='R99 ', Day_of_Week_of_Death=7, Data_Year=2014, Month_of_Death=0, id=0, Infant_Living='N', Limb_Reduction_Defect_numeric=0.0, Induction_Of_Labor_numeric=0.0, Sucessful_External_Cephalic_Version_numeric=0.0, Meningomyelocele_or_Spina_Bifida_numeric=0.0, Steroids_Mother_numeric=0.0, Anesthesia_Mother_numeric=0.0, Pre_Pregnancy_Hypertension_numeric=0.0, Omphalocele_numeric=0.0, Ruptured_Uterus_numeric=0.0, Cleft_Lip_w_or_wo_Cleft_Palate_numeric=0.0, Chlamydia_numeric=0.0, Unplanned_Hysterectomy_numeric=0.0, Infant_Being_Breastfed_numeric=1.0, HepatitisC_numeric=0.0, Anencephaly_numeric=0.0, Gestational_Diabetes_numeric=0.0, Surfactant_numeric=0.0, Syphillis_numeric=0.0, Admit_to_Intensive_Care_numeric=0.0, Assistive_Reproductive_Technology_numeric=0.0, Gastroschisis_numeric=0.0, Prev_Cesareans_numeric=0.0, Antibiotics_numeric=0.0, Hypospadias_numeric=0.0, Infant_Living_numeric=0.0, Perineal_Laceration_numeric=3.0, Infertility_Treatment_numeric=0.0, Previous_Preterm_Birth_numeric=0.0, Assisted_Ventilation_Greater_Than_6_Hours_numeric=0.0, Chorioamnionitis_Mother_numeric=1.0, Maternal_Transfusion_numeric=0.0, Sex_Of_Infant_numeric=1.0, Antibiotics_Mother_numeric=1.0, No_Risk_Factors_Checked_numeric=0.0, Assisted_Ventilation_numeric=0.0, HepatitisB_numeric=0.0, Cleft_Palate_alone_numeric=0.0, Cyanotic_Congenital_Heart_Disease_numeric=0.0, Gonorrhea_numeric=0.0, Failed_External_Cephalic_Version_numeric=0.0, Congenital_Diaphragmatic_Hernia_numeric=0.0, ICD10_numeric=3.0, Seizures_numeric=0.0, Gestational_Hypertension_numeric=0.0, Infant_Living_at_Time_of_Report_numeric=0.0, Suspected_Chromosomal_Disorder_numeric=0.0, No_Infections_Checked_numeric=0.0, Pre_Pregnancy_Diabetes_numeric=0.0, Augmentation_Of_Labor_numeric=1.0, Fertility_Enhancing_Drugs_numeric=0.0, No_Labor_Checked_numeric=0.0, Admission_to_NICU_numeric=0.0, Mother_Transferred_numeric=1.0, Hypertension_Eclmapsia_numeric=0.0, label=0.0, features=SparseVector(146, {0: 2013.0, 1: 7.0, 2: 1853.0, 3: 3.0, 4: 1.0, 5: 1.0, 6: 24.0, 7: 1.0, 8: 1.0, 9: -1.0, 10: 1.0, 12: -1.0, 13: 1.0, 14: 4.0, 15: 22.0, 16: 3.0, 17: -1.0, 18: 1.0, 20: 2.0, 24: 1.0, 25: 1.0, 26: 888.0, 27: 88.0, 28: 888.0, 29: 88.0, 30: 888.0, 31: 88.0, 32: 8.0, 33: 5.0, 34: 20.0, 35: 3.0, 36: 1.0, 37: 1.0, 38: -1.0, 39: -1.0, 40: -1.0, 41: -1.0, 42: 65.0, 43: 4.0, 44: 195.0, 45: 233.0, 46: 38.0, 47: 4.0, 49: 1.0, 50: 1.0, 51: -1.0, 52: 1.0, 54: 1.0, 55: 2.0, 56: 2.0, 57: 9.0, 58: 4.0, 59: 88.0, 60: 5.0, 61: 1.0, 62: 10.0, 63: 2012.0, 64: -1.0, 65: 42.0, 66: 1.0, 67: 11.0, 68: 3.0, 69: 4119.0, 70: 1.0, 71: 1.0, 72: 2.0, 73: 2.0, 74: 2.0, 75: 2.0, 76: 2.0, 77: 2.0, 78: 2.0, 79: 2.0, 80: 2.0, 81: 2.0, 82: 2.0, 83: 2.0, 84: 2.0, 85: 172.0, 86: 5.0, 87: 16.0, 88: 5.0, 89: -1.0, 90: 7.0, 91: 2014.0, 106: 1.0, 118: 3.0, 122: 1.0, 124: 1.0, 125: 1.0, 134: 3.0, 140: 1.0, 144: 1.0}))"
      ]
     },
     "execution_count": 8,
     "metadata": {},
     "output_type": "execute_result"
    }
   ],
   "source": [
    "from pyspark.ml.feature import VectorAssembler\n",
    "\n",
    "pca_cols = pndf.columns\n",
    "pca_cols = [e for e in pca_cols if e not in stringColumns]\n",
    "no_label_pca_cols = [e for e in pca_cols if e not in ['Infant_Living_at_Time_of_Report_numeric','Infant_Living_at_Time_of_Report',\\\n",
    "                                                    'Infant_Living','Infant_Living_numeric','label']] #removed labels\n",
    "\n",
    "assembler = VectorAssembler(inputCols=no_label_pca_cols, outputCol='features' )\n",
    "vector_df = assembler.transform(pndf.na.fill(-1.0)) #pndf.na.drop()\n",
    "vector_df.head()"
   ]
  },
  {
   "cell_type": "markdown",
   "metadata": {},
   "source": [
    "### Scaling and Normalization"
   ]
  },
  {
   "cell_type": "code",
   "execution_count": 9,
   "metadata": {},
   "outputs": [
    {
     "data": {
      "text/plain": [
       "Row(Birth_Year=2013, Birth_Month=7, Time_of_Birth=1853, Birth_DOW=3, Birth_Place=1, Facility_Recode=1, Mothers_Age_Recode=24, Mothers_Nativity=1, Residence_Status=1, Mothers_Race=-1, Bridge_Race_Mother=1, Mothers_Hispanic_Origin_Recode=0, Paternity_Ack=-1, Marital_Status=1, Mothers_Education=4, Fathers_Age=22, Fathers_Age_Recode=3, Fathers_Race_Recode=-1, Bridge_Race_Father=1, Fathers_Hispanic_Origin_Recode=0, Fathers_Education=2, Prior_Births_Living=0, Prior_Births_Dead=0, Prior_Other_Terminations=0, Live_Birth_Order_Recode=1, Total_Birth_Order_Recode=1, Interval_Last_Live_Birth_Recode=888, Interval_Last_Live_Birth_Recode11=88, Interval_Last_Other_Pregnancy_Recode=888, Interval_Last_Other_Pregnancy_Recode11=88, Interval_Last_Pregnancy_Recode=888, Interval_Last_Pregnancy_Recode11=88, Num_Prenatal_Visits=8, Num_Prenatal_Visits_Recode=5, Cigarettes_Before_Pregnancy=20, Cigarettes_1st_Trimester=3, Cigarettes_2nd_Trimester=1, Cigarettes_3rd_Trimester=1, Cigarettes_Before_Pregnancy_Recode=-1, Cigarettes_1st_Trimester_Recode=-1, Cigarettes_2nd_Trimester_Recode=-1, Cigarettes_3rd_Trimester_Recode=-1, Mothers_Height_Inches=65, BMI_Recode=4, Pre_Pregnancy_Weight_Recode=195, Delivery_Weight_Recode=233, Weight_Gain=38, Weight_Gain_Recode=4, Pre_Pregnancy_Diabetes='N', Gestational_Diabetes='N', Pre_Pregnancy_Hypertension='N', Gestational_Hypertension='N', Hypertension_Eclmapsia='N', Previous_Preterm_Birth='N', Infertility_Treatment='N', Fertility_Enhancing_Drugs='X', Assistive_Reproductive_Technology='X', Prev_Cesareans='N', Num_Prev_Cesareans=0, No_Risk_Factors_Checked='1', Gonorrhea='N', Syphillis='N', Chlamydia='N', HepatitisB='N', HepatitisC='N', No_Infections_Checked='1', Sucessful_External_Cephalic_Version='N', Failed_External_Cephalic_Version='N', Induction_Of_Labor='N', Augmentation_Of_Labor='Y', Steroids_Mother='N', Antibiotics_Mother='Y', Chorioamnionitis_Mother='Y', Anesthesia_Mother='N', No_Labor_Checked='0', Fetal_Presentation=1, Final_Route_and_Method_Of_Delivery=1, Trail_Of_Labor_Attempted=-1, Delivery_Method_Recode=1, Maternal_Transfusion='N', Perineal_Laceration='Y', Ruptured_Uterus='N', Unplanned_Hysterectomy='N', Admit_to_Intensive_Care='N', No_Maternal_Morbidity_Checked=0, Attendant=1, Mother_Transferred='Y', Payment_Source=2, Payment_Recode=2, Five_Minute_APGAR_Score=9, Five_Minute_APGAR_Recode=4, Ten_Minute_APGAR_Score=88, Ten_Minute_APGAR_Recode=5, Plurality=1, Sex_Of_Infant='F', Last_Normal_Menses_Month=10, Last_Normal_Menses_Year=2012, Obstetric_Estimate_of_Gestation_Used_Flag=-1, Combined_Gestation_Detail_in_Weeks=42, Combined_Gestation_Recode_Weeks=1, Birth_Weight_Recode_14=11, Birth_Weight_Recode_4=3, Imputed_Birthwieght=4119, Assisted_Ventilation='N', Assisted_Ventilation_Greater_Than_6_Hours='N', Admission_to_NICU='N', Surfactant='N', Antibiotics='N', Seizures='N', No_Abnormal_Conditions_Checked=1, Anencephaly='N', Meningomyelocele_or_Spina_Bifida='N', Cyanotic_Congenital_Heart_Disease='N', Congenital_Diaphragmatic_Hernia='N', Omphalocele='N', Gastroschisis='N', Limb_Reduction_Defect='N', Cleft_Lip_w_or_wo_Cleft_Palate='N', Cleft_Palate_alone='N', Suspected_Chromosomal_Disorder='N', Hypospadias='N', No_Congenital_Anomalies_Checked=1, Infant_Living_at_Time_of_Report='Y', Infant_Being_Breastfed='Y', Diabetes=2, Chronic_Hypertension=2, Prepregnacy_Associated_Hypertension=2, Eclampsia=2, Forceps=2, Vacuum=2, Induction_of_Labor1=2, Breech1=2, Spina_Bifida_Meningocele1=2, Omphalocele_Gastroschisis1=2, Cleft_Lip_Palate1=2, Diaphragmatic_Herni1a=2, Down_Syndrome1=2, Age_at_Death_in_Days=172, Infant_age_recode_5=5, Infant_age_recode_22=16, Manner_of_Death=5, Place_of_injury_for_causes_W00_Y34_except_Y06=-1, ICD10='R99 ', Day_of_Week_of_Death=7, Data_Year=2014, Month_of_Death=0, id=0, Infant_Living='N', Limb_Reduction_Defect_numeric=0.0, Induction_Of_Labor_numeric=0.0, Sucessful_External_Cephalic_Version_numeric=0.0, Meningomyelocele_or_Spina_Bifida_numeric=0.0, Steroids_Mother_numeric=0.0, Anesthesia_Mother_numeric=0.0, Pre_Pregnancy_Hypertension_numeric=0.0, Omphalocele_numeric=0.0, Ruptured_Uterus_numeric=0.0, Cleft_Lip_w_or_wo_Cleft_Palate_numeric=0.0, Chlamydia_numeric=0.0, Unplanned_Hysterectomy_numeric=0.0, Infant_Being_Breastfed_numeric=1.0, HepatitisC_numeric=0.0, Anencephaly_numeric=0.0, Gestational_Diabetes_numeric=0.0, Surfactant_numeric=0.0, Syphillis_numeric=0.0, Admit_to_Intensive_Care_numeric=0.0, Assistive_Reproductive_Technology_numeric=0.0, Gastroschisis_numeric=0.0, Prev_Cesareans_numeric=0.0, Antibiotics_numeric=0.0, Hypospadias_numeric=0.0, Infant_Living_numeric=0.0, Perineal_Laceration_numeric=3.0, Infertility_Treatment_numeric=0.0, Previous_Preterm_Birth_numeric=0.0, Assisted_Ventilation_Greater_Than_6_Hours_numeric=0.0, Chorioamnionitis_Mother_numeric=1.0, Maternal_Transfusion_numeric=0.0, Sex_Of_Infant_numeric=1.0, Antibiotics_Mother_numeric=1.0, No_Risk_Factors_Checked_numeric=0.0, Assisted_Ventilation_numeric=0.0, HepatitisB_numeric=0.0, Cleft_Palate_alone_numeric=0.0, Cyanotic_Congenital_Heart_Disease_numeric=0.0, Gonorrhea_numeric=0.0, Failed_External_Cephalic_Version_numeric=0.0, Congenital_Diaphragmatic_Hernia_numeric=0.0, ICD10_numeric=3.0, Seizures_numeric=0.0, Gestational_Hypertension_numeric=0.0, Infant_Living_at_Time_of_Report_numeric=0.0, Suspected_Chromosomal_Disorder_numeric=0.0, No_Infections_Checked_numeric=0.0, Pre_Pregnancy_Diabetes_numeric=0.0, Augmentation_Of_Labor_numeric=1.0, Fertility_Enhancing_Drugs_numeric=0.0, No_Labor_Checked_numeric=0.0, Admission_to_NICU_numeric=0.0, Mother_Transferred_numeric=1.0, Hypertension_Eclmapsia_numeric=0.0, label=0.0, features=SparseVector(146, {0: 2013.0, 1: 7.0, 2: 1853.0, 3: 3.0, 4: 1.0, 5: 1.0, 6: 24.0, 7: 1.0, 8: 1.0, 9: -1.0, 10: 1.0, 12: -1.0, 13: 1.0, 14: 4.0, 15: 22.0, 16: 3.0, 17: -1.0, 18: 1.0, 20: 2.0, 24: 1.0, 25: 1.0, 26: 888.0, 27: 88.0, 28: 888.0, 29: 88.0, 30: 888.0, 31: 88.0, 32: 8.0, 33: 5.0, 34: 20.0, 35: 3.0, 36: 1.0, 37: 1.0, 38: -1.0, 39: -1.0, 40: -1.0, 41: -1.0, 42: 65.0, 43: 4.0, 44: 195.0, 45: 233.0, 46: 38.0, 47: 4.0, 49: 1.0, 50: 1.0, 51: -1.0, 52: 1.0, 54: 1.0, 55: 2.0, 56: 2.0, 57: 9.0, 58: 4.0, 59: 88.0, 60: 5.0, 61: 1.0, 62: 10.0, 63: 2012.0, 64: -1.0, 65: 42.0, 66: 1.0, 67: 11.0, 68: 3.0, 69: 4119.0, 70: 1.0, 71: 1.0, 72: 2.0, 73: 2.0, 74: 2.0, 75: 2.0, 76: 2.0, 77: 2.0, 78: 2.0, 79: 2.0, 80: 2.0, 81: 2.0, 82: 2.0, 83: 2.0, 84: 2.0, 85: 172.0, 86: 5.0, 87: 16.0, 88: 5.0, 89: -1.0, 90: 7.0, 91: 2014.0, 106: 1.0, 118: 3.0, 122: 1.0, 124: 1.0, 125: 1.0, 134: 3.0, 140: 1.0, 144: 1.0}), scaledFeatures=SparseVector(146, {0: 161.3088, 1: 2.1344, 2: 2.5352, 3: 1.5728, 4: 1.7911, 5: 7.709, 6: 3.8091, 7: 2.332, 8: 1.7695, 9: -0.5568, 10: 1.3118, 12: -0.0, 13: 2.002, 14: 1.9735, 15: 0.7245, 16: 1.0158, 17: -0.0235, 18: 0.2862, 20: 0.6995, 24: 0.6341, 25: 0.5006, 26: 2.0725, 27: 2.0725, 28: 2.4834, 29: 2.4741, 30: 1.9931, 31: 1.9961, 32: 0.3363, 33: 1.7161, 34: 1.1678, 35: 0.176, 36: 0.0585, 37: 0.0574, 38: -0.8008, 39: -0.8565, 40: -0.8794, 41: -0.884, 42: 4.846, 43: 1.8846, 44: 0.909, 45: 1.2684, 46: 1.4145, 47: 1.79, 49: 0.6826, 50: 0.6343, 51: -161.5085, 52: 0.7704, 54: 1.3347, 55: 1.2781, 56: 1.6108, 57: 0.5163, 58: 2.9539, 59: 2.0388, 60: 2.5435, 61: 2.4399, 62: 0.3635, 63: 0.8705, 64: -1.5717, 65: 4.2922, 66: 1.2493, 67: 3.1304, 68: 3.2124, 69: 2.9362, 70: 1.096, 71: 0.8919, 72: 3.4298, 73: 3.5766, 74: 3.4392, 75: 3.7245, 76: 5.3869, 77: 5.2534, 78: 3.3377, 79: 1.5537, 80: 2.0971, 81: 2.0919, 82: 2.0864, 83: 2.0909, 84: 2.0934, 85: 2.4659, 86: 2.5699, 87: 2.5885, 88: 1.4804, 89: -1.0979, 90: 2.8417, 91: 3.1329, 106: 1.1575, 118: 10.7121, 122: 1.7812, 124: 2.0098, 125: 1.7812, 134: 0.0268, 140: 2.023, 144: 2.3531}))"
      ]
     },
     "execution_count": 9,
     "metadata": {},
     "output_type": "execute_result"
    }
   ],
   "source": [
    "from pyspark.ml.feature import StandardScaler\n",
    "scaler = StandardScaler(inputCol='features', \n",
    "                        outputCol='scaledFeatures', withMean=False, withStd=True) # TODO: should withMean be True??\n",
    "scaled_df = scaler.fit(vector_df).transform(vector_df)\n",
    "scaled_df.head()"
   ]
  },
  {
   "cell_type": "code",
   "execution_count": 10,
   "metadata": {},
   "outputs": [
    {
     "data": {
      "text/plain": [
       "Row(Birth_Year=2013, Birth_Month=7, Time_of_Birth=1853, Birth_DOW=3, Birth_Place=1, Facility_Recode=1, Mothers_Age_Recode=24, Mothers_Nativity=1, Residence_Status=1, Mothers_Race=-1, Bridge_Race_Mother=1, Mothers_Hispanic_Origin_Recode=0, Paternity_Ack=-1, Marital_Status=1, Mothers_Education=4, Fathers_Age=22, Fathers_Age_Recode=3, Fathers_Race_Recode=-1, Bridge_Race_Father=1, Fathers_Hispanic_Origin_Recode=0, Fathers_Education=2, Prior_Births_Living=0, Prior_Births_Dead=0, Prior_Other_Terminations=0, Live_Birth_Order_Recode=1, Total_Birth_Order_Recode=1, Interval_Last_Live_Birth_Recode=888, Interval_Last_Live_Birth_Recode11=88, Interval_Last_Other_Pregnancy_Recode=888, Interval_Last_Other_Pregnancy_Recode11=88, Interval_Last_Pregnancy_Recode=888, Interval_Last_Pregnancy_Recode11=88, Num_Prenatal_Visits=8, Num_Prenatal_Visits_Recode=5, Cigarettes_Before_Pregnancy=20, Cigarettes_1st_Trimester=3, Cigarettes_2nd_Trimester=1, Cigarettes_3rd_Trimester=1, Cigarettes_Before_Pregnancy_Recode=-1, Cigarettes_1st_Trimester_Recode=-1, Cigarettes_2nd_Trimester_Recode=-1, Cigarettes_3rd_Trimester_Recode=-1, Mothers_Height_Inches=65, BMI_Recode=4, Pre_Pregnancy_Weight_Recode=195, Delivery_Weight_Recode=233, Weight_Gain=38, Weight_Gain_Recode=4, Pre_Pregnancy_Diabetes='N', Gestational_Diabetes='N', Pre_Pregnancy_Hypertension='N', Gestational_Hypertension='N', Hypertension_Eclmapsia='N', Previous_Preterm_Birth='N', Infertility_Treatment='N', Fertility_Enhancing_Drugs='X', Assistive_Reproductive_Technology='X', Prev_Cesareans='N', Num_Prev_Cesareans=0, No_Risk_Factors_Checked='1', Gonorrhea='N', Syphillis='N', Chlamydia='N', HepatitisB='N', HepatitisC='N', No_Infections_Checked='1', Sucessful_External_Cephalic_Version='N', Failed_External_Cephalic_Version='N', Induction_Of_Labor='N', Augmentation_Of_Labor='Y', Steroids_Mother='N', Antibiotics_Mother='Y', Chorioamnionitis_Mother='Y', Anesthesia_Mother='N', No_Labor_Checked='0', Fetal_Presentation=1, Final_Route_and_Method_Of_Delivery=1, Trail_Of_Labor_Attempted=-1, Delivery_Method_Recode=1, Maternal_Transfusion='N', Perineal_Laceration='Y', Ruptured_Uterus='N', Unplanned_Hysterectomy='N', Admit_to_Intensive_Care='N', No_Maternal_Morbidity_Checked=0, Attendant=1, Mother_Transferred='Y', Payment_Source=2, Payment_Recode=2, Five_Minute_APGAR_Score=9, Five_Minute_APGAR_Recode=4, Ten_Minute_APGAR_Score=88, Ten_Minute_APGAR_Recode=5, Plurality=1, Sex_Of_Infant='F', Last_Normal_Menses_Month=10, Last_Normal_Menses_Year=2012, Obstetric_Estimate_of_Gestation_Used_Flag=-1, Combined_Gestation_Detail_in_Weeks=42, Combined_Gestation_Recode_Weeks=1, Birth_Weight_Recode_14=11, Birth_Weight_Recode_4=3, Imputed_Birthwieght=4119, Assisted_Ventilation='N', Assisted_Ventilation_Greater_Than_6_Hours='N', Admission_to_NICU='N', Surfactant='N', Antibiotics='N', Seizures='N', No_Abnormal_Conditions_Checked=1, Anencephaly='N', Meningomyelocele_or_Spina_Bifida='N', Cyanotic_Congenital_Heart_Disease='N', Congenital_Diaphragmatic_Hernia='N', Omphalocele='N', Gastroschisis='N', Limb_Reduction_Defect='N', Cleft_Lip_w_or_wo_Cleft_Palate='N', Cleft_Palate_alone='N', Suspected_Chromosomal_Disorder='N', Hypospadias='N', No_Congenital_Anomalies_Checked=1, Infant_Living_at_Time_of_Report='Y', Infant_Being_Breastfed='Y', Diabetes=2, Chronic_Hypertension=2, Prepregnacy_Associated_Hypertension=2, Eclampsia=2, Forceps=2, Vacuum=2, Induction_of_Labor1=2, Breech1=2, Spina_Bifida_Meningocele1=2, Omphalocele_Gastroschisis1=2, Cleft_Lip_Palate1=2, Diaphragmatic_Herni1a=2, Down_Syndrome1=2, Age_at_Death_in_Days=172, Infant_age_recode_5=5, Infant_age_recode_22=16, Manner_of_Death=5, Place_of_injury_for_causes_W00_Y34_except_Y06=-1, ICD10='R99 ', Day_of_Week_of_Death=7, Data_Year=2014, Month_of_Death=0, id=0, Infant_Living='N', Limb_Reduction_Defect_numeric=0.0, Induction_Of_Labor_numeric=0.0, Sucessful_External_Cephalic_Version_numeric=0.0, Meningomyelocele_or_Spina_Bifida_numeric=0.0, Steroids_Mother_numeric=0.0, Anesthesia_Mother_numeric=0.0, Pre_Pregnancy_Hypertension_numeric=0.0, Omphalocele_numeric=0.0, Ruptured_Uterus_numeric=0.0, Cleft_Lip_w_or_wo_Cleft_Palate_numeric=0.0, Chlamydia_numeric=0.0, Unplanned_Hysterectomy_numeric=0.0, Infant_Being_Breastfed_numeric=1.0, HepatitisC_numeric=0.0, Anencephaly_numeric=0.0, Gestational_Diabetes_numeric=0.0, Surfactant_numeric=0.0, Syphillis_numeric=0.0, Admit_to_Intensive_Care_numeric=0.0, Assistive_Reproductive_Technology_numeric=0.0, Gastroschisis_numeric=0.0, Prev_Cesareans_numeric=0.0, Antibiotics_numeric=0.0, Hypospadias_numeric=0.0, Infant_Living_numeric=0.0, Perineal_Laceration_numeric=3.0, Infertility_Treatment_numeric=0.0, Previous_Preterm_Birth_numeric=0.0, Assisted_Ventilation_Greater_Than_6_Hours_numeric=0.0, Chorioamnionitis_Mother_numeric=1.0, Maternal_Transfusion_numeric=0.0, Sex_Of_Infant_numeric=1.0, Antibiotics_Mother_numeric=1.0, No_Risk_Factors_Checked_numeric=0.0, Assisted_Ventilation_numeric=0.0, HepatitisB_numeric=0.0, Cleft_Palate_alone_numeric=0.0, Cyanotic_Congenital_Heart_Disease_numeric=0.0, Gonorrhea_numeric=0.0, Failed_External_Cephalic_Version_numeric=0.0, Congenital_Diaphragmatic_Hernia_numeric=0.0, ICD10_numeric=3.0, Seizures_numeric=0.0, Gestational_Hypertension_numeric=0.0, Infant_Living_at_Time_of_Report_numeric=0.0, Suspected_Chromosomal_Disorder_numeric=0.0, No_Infections_Checked_numeric=0.0, Pre_Pregnancy_Diabetes_numeric=0.0, Augmentation_Of_Labor_numeric=1.0, Fertility_Enhancing_Drugs_numeric=0.0, No_Labor_Checked_numeric=0.0, Admission_to_NICU_numeric=0.0, Mother_Transferred_numeric=1.0, Hypertension_Eclmapsia_numeric=0.0, label=0.0, features=SparseVector(146, {0: 2013.0, 1: 7.0, 2: 1853.0, 3: 3.0, 4: 1.0, 5: 1.0, 6: 24.0, 7: 1.0, 8: 1.0, 9: -1.0, 10: 1.0, 12: -1.0, 13: 1.0, 14: 4.0, 15: 22.0, 16: 3.0, 17: -1.0, 18: 1.0, 20: 2.0, 24: 1.0, 25: 1.0, 26: 888.0, 27: 88.0, 28: 888.0, 29: 88.0, 30: 888.0, 31: 88.0, 32: 8.0, 33: 5.0, 34: 20.0, 35: 3.0, 36: 1.0, 37: 1.0, 38: -1.0, 39: -1.0, 40: -1.0, 41: -1.0, 42: 65.0, 43: 4.0, 44: 195.0, 45: 233.0, 46: 38.0, 47: 4.0, 49: 1.0, 50: 1.0, 51: -1.0, 52: 1.0, 54: 1.0, 55: 2.0, 56: 2.0, 57: 9.0, 58: 4.0, 59: 88.0, 60: 5.0, 61: 1.0, 62: 10.0, 63: 2012.0, 64: -1.0, 65: 42.0, 66: 1.0, 67: 11.0, 68: 3.0, 69: 4119.0, 70: 1.0, 71: 1.0, 72: 2.0, 73: 2.0, 74: 2.0, 75: 2.0, 76: 2.0, 77: 2.0, 78: 2.0, 79: 2.0, 80: 2.0, 81: 2.0, 82: 2.0, 83: 2.0, 84: 2.0, 85: 172.0, 86: 5.0, 87: 16.0, 88: 5.0, 89: -1.0, 90: 7.0, 91: 2014.0, 106: 1.0, 118: 3.0, 122: 1.0, 124: 1.0, 125: 1.0, 134: 3.0, 140: 1.0, 144: 1.0}), scaledFeatures=SparseVector(146, {0: 161.3088, 1: 2.1344, 2: 2.5352, 3: 1.5728, 4: 1.7911, 5: 7.709, 6: 3.8091, 7: 2.332, 8: 1.7695, 9: -0.5568, 10: 1.3118, 12: -0.0, 13: 2.002, 14: 1.9735, 15: 0.7245, 16: 1.0158, 17: -0.0235, 18: 0.2862, 20: 0.6995, 24: 0.6341, 25: 0.5006, 26: 2.0725, 27: 2.0725, 28: 2.4834, 29: 2.4741, 30: 1.9931, 31: 1.9961, 32: 0.3363, 33: 1.7161, 34: 1.1678, 35: 0.176, 36: 0.0585, 37: 0.0574, 38: -0.8008, 39: -0.8565, 40: -0.8794, 41: -0.884, 42: 4.846, 43: 1.8846, 44: 0.909, 45: 1.2684, 46: 1.4145, 47: 1.79, 49: 0.6826, 50: 0.6343, 51: -161.5085, 52: 0.7704, 54: 1.3347, 55: 1.2781, 56: 1.6108, 57: 0.5163, 58: 2.9539, 59: 2.0388, 60: 2.5435, 61: 2.4399, 62: 0.3635, 63: 0.8705, 64: -1.5717, 65: 4.2922, 66: 1.2493, 67: 3.1304, 68: 3.2124, 69: 2.9362, 70: 1.096, 71: 0.8919, 72: 3.4298, 73: 3.5766, 74: 3.4392, 75: 3.7245, 76: 5.3869, 77: 5.2534, 78: 3.3377, 79: 1.5537, 80: 2.0971, 81: 2.0919, 82: 2.0864, 83: 2.0909, 84: 2.0934, 85: 2.4659, 86: 2.5699, 87: 2.5885, 88: 1.4804, 89: -1.0979, 90: 2.8417, 91: 3.1329, 106: 1.1575, 118: 10.7121, 122: 1.7812, 124: 2.0098, 125: 1.7812, 134: 0.0268, 140: 2.023, 144: 2.3531}), normalizeFeatures=SparseVector(146, {0: 0.3207, 1: 0.0042, 2: 0.005, 3: 0.0031, 4: 0.0036, 5: 0.0153, 6: 0.0076, 7: 0.0046, 8: 0.0035, 9: -0.0011, 10: 0.0026, 12: -0.0, 13: 0.004, 14: 0.0039, 15: 0.0014, 16: 0.002, 17: -0.0, 18: 0.0006, 20: 0.0014, 24: 0.0013, 25: 0.001, 26: 0.0041, 27: 0.0041, 28: 0.0049, 29: 0.0049, 30: 0.004, 31: 0.004, 32: 0.0007, 33: 0.0034, 34: 0.0023, 35: 0.0004, 36: 0.0001, 37: 0.0001, 38: -0.0016, 39: -0.0017, 40: -0.0017, 41: -0.0018, 42: 0.0096, 43: 0.0037, 44: 0.0018, 45: 0.0025, 46: 0.0028, 47: 0.0036, 49: 0.0014, 50: 0.0013, 51: -0.3211, 52: 0.0015, 54: 0.0027, 55: 0.0025, 56: 0.0032, 57: 0.001, 58: 0.0059, 59: 0.0041, 60: 0.0051, 61: 0.0049, 62: 0.0007, 63: 0.0017, 64: -0.0031, 65: 0.0085, 66: 0.0025, 67: 0.0062, 68: 0.0064, 69: 0.0058, 70: 0.0022, 71: 0.0018, 72: 0.0068, 73: 0.0071, 74: 0.0068, 75: 0.0074, 76: 0.0107, 77: 0.0104, 78: 0.0066, 79: 0.0031, 80: 0.0042, 81: 0.0042, 82: 0.0041, 83: 0.0042, 84: 0.0042, 85: 0.0049, 86: 0.0051, 87: 0.0051, 88: 0.0029, 89: -0.0022, 90: 0.0057, 91: 0.0062, 106: 0.0023, 118: 0.0213, 122: 0.0035, 124: 0.004, 125: 0.0035, 134: 0.0001, 140: 0.004, 144: 0.0047}))"
      ]
     },
     "execution_count": 10,
     "metadata": {},
     "output_type": "execute_result"
    }
   ],
   "source": [
    "from pyspark.ml.feature import Normalizer\n",
    "nrmlzer = Normalizer(inputCol='scaledFeatures', outputCol='normalizeFeatures', p=1.0)\n",
    "l1Normalized = nrmlzer.transform(scaled_df)\n",
    "l1Normalized.head()"
   ]
  },
  {
   "cell_type": "markdown",
   "metadata": {},
   "source": [
    "### Dimensionality Reduction: PCA and Similarity Search(Cosine similarity using DIMSUM)"
   ]
  },
  {
   "cell_type": "code",
   "execution_count": 22,
   "metadata": {
    "scrolled": false
   },
   "outputs": [
    {
     "name": "stdout",
     "output_type": "stream",
     "text": [
      "[[    0 17593  1817  1690  1709 15608  1774   686  2506  1552]\n",
      " [    1  2012   841 10100  1750  1996 11642  1776  2124  1535]]\n",
      "[[    0 17593  1817  1690  1709 15608  1774   686  2506  1552]\n",
      " [    1  2012   841 10100  1750  1996 11642  1776  2124  1535]]\n"
     ]
    }
   ],
   "source": [
    "from pyspark.ml.feature import PCA\n",
    "from pyspark.mllib.linalg.distributed import RowMatrix\n",
    "from sklearn.neighbors import NearestNeighbors\n",
    "# num_principal_comp = 5\n",
    "# mat = RowMatrix(l1Normalized.select('normalizeFeatures').rdd.map(lambda row : list(row[0])))\n",
    "# pc = mat.computePrincipalComponents(num_principal_comp)\n",
    "# projected = mat.multiply(pc)\n",
    "# # print(projected.rows.take(1))\n",
    "# collected = projected.rows.collect()\n",
    "# rddVector = sc.parallelize(collected).map(lambda row : list(row)).collect()\n",
    "# nbrs = NearestNeighbors(n_neighbors=10, algorithm='ball_tree').fit(rddVector)\n",
    "# distances, indices = nbrs.kneighbors(rddVector)\n",
    "# # print(distances)\n",
    "# print(indices[:2])\n",
    "\n",
    "pca = PCA(k=num_principal_comp, inputCol='normalizeFeatures', outputCol='features_pca')\n",
    "pca_model = pca.fit(l1Normalized)\n",
    "pca_feat = pca_model.transform(l1Normalized).select('features_pca').rdd.map(lambda row : list(row[0]))\n",
    "# #pca_feat.show(truncate=True)\n",
    "# print(pca_feat)\n",
    "collected = pca_feat.collect()\n",
    "rddVector = sc.parallelize(collected).map(lambda row : list(row)).collect()\n",
    "nbrs = NearestNeighbors(n_neighbors=10, algorithm='ball_tree').fit(rddVector)\n",
    "distances, indices = nbrs.kneighbors(rddVector)\n",
    "# print(distances)\n",
    "print(indices[:2])\n",
    "\n",
    "\n",
    "\n",
    "\n",
    "\n",
    "# pca = PCA(k=num_principal_comp, inputCol='normalizeFeatures', outputCol='features_pca')\n",
    "# pca_model = pca.fit(l1Normalized)\n",
    "# pca_feat = pca_model.transform(l1Normalized)\n",
    "# pca_feat = pca_feat.select('id','features_pca')\n",
    "# brp = BucketedRandomProjectionLSH(inputCol=\"features_pca\", outputCol=\"hashes\", seed=998877665544, bucketLength=10.0)\n",
    "# model = brp.fit(pca_feat)\n",
    "# model.transform(pca_feat).take(20)\n",
    "# print(\"Projected Row Matrix of principal component:\")\n",
    "# for vector in collected:\n",
    "#     print(vector)\n",
    "\n",
    "# print(\"Print column matrix now\")\n",
    "# x = collected[0].flatten()\n",
    "# for vector in collected[1:]:\n",
    "#     vector = vector.flatten()\n",
    "#     x = np.vstack((x, vector))\n",
    "# x = (x.T)\n",
    "# mat = RowMatrix(rddVector)\n",
    "# exact = mat.columnSimilarities(0.2)\n",
    "# print(exact.entries.count())\n",
    "# print(exact.entries.collect())\n",
    "# for vector in collected:\n",
    "#     print(np.array(vector).shape)\n",
    "# pca = PCA(k=num_principal_comp, inputCol='normalizeFeatures', outputCol='features_pca')\n",
    "# pca_model = pca.fit(l1Normalized)\n",
    "# pca_feat = pca_model.transform(l1Normalized)\n",
    "# print(type(pca_feat))\n",
    "# rddVector = pca_feat.select('features_pca').rdd.map(lambda row : list(row[0]))\n",
    "# mat = RowMatrix(rddVector)\n",
    "# exact = mat.columnSimilarities()\n"
   ]
  },
  {
   "cell_type": "code",
   "execution_count": null,
   "metadata": {},
   "outputs": [],
   "source": []
  }
 ],
 "metadata": {
  "kernelspec": {
   "display_name": "Python 3",
   "language": "python",
   "name": "python3"
  },
  "language_info": {
   "codemirror_mode": {
    "name": "ipython",
    "version": 3
   },
   "file_extension": ".py",
   "mimetype": "text/x-python",
   "name": "python",
   "nbconvert_exporter": "python",
   "pygments_lexer": "ipython3",
   "version": "3.6.3"
  }
 },
 "nbformat": 4,
 "nbformat_minor": 1
}
