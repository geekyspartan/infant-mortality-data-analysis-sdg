{
 "cells": [
  {
   "cell_type": "markdown",
   "metadata": {
    "collapsed": true
   },
   "source": [
    "## CSE545-SDG3-Matrix\n"
   ]
  },
  {
   "cell_type": "code",
   "execution_count": 1,
   "metadata": {},
   "outputs": [],
   "source": [
    "import findspark\n",
    "findspark.init()\n",
    "import pyspark\n",
    "from pyspark.sql import SQLContext\n",
    "from pyspark.sql.types import *\n",
    "import numpy as np\n",
    "import pandas as pd\n",
    "import scipy\n",
    "import matplotlib.pyplot as plt\n",
    "import seaborn as sns\n",
    "from pyspark.sql.functions import *\n",
    "from pyspark.sql.window import *\n",
    "from pyspark.sql.types import *\n",
    "import os"
   ]
  },
  {
   "cell_type": "code",
   "execution_count": 2,
   "metadata": {},
   "outputs": [
    {
     "data": {
      "text/plain": [
       "'2.2.0'"
      ]
     },
     "execution_count": 2,
     "metadata": {},
     "output_type": "execute_result"
    }
   ],
   "source": [
    "sc = pyspark.SparkContext(appName=\"SDG3\")\n",
    "sqlCtx = SQLContext(sc)\n",
    "sc.version"
   ]
  },
  {
   "cell_type": "code",
   "execution_count": 3,
   "metadata": {},
   "outputs": [
    {
     "name": "stdout",
     "output_type": "stream",
     "text": [
      "../LinkPE14US/VS14LINK.USNUMPUB\n"
     ]
    },
    {
     "data": {
      "text/plain": [
       "DataFrame[value: string]"
      ]
     },
     "execution_count": 3,
     "metadata": {},
     "output_type": "execute_result"
    }
   ],
   "source": [
    "data_path = r'../LinkPE14US'\n",
    "print(os.path.join(data_path, \"VS14LINK.USNUMPUB\"))\n",
    "df = sqlCtx.read.text(os.path.join(data_path, \"VS14LINK.USNUMPUB\"))  #350 mb\n",
    "#df = sqlCtx.read.text(\"/VS14LINK.USDENPUB\") # 5gb\n",
    "#df = sqlCtx.read.text(\"/*.*PUB\") # both\n",
    "df"
   ]
  },
  {
   "cell_type": "code",
   "execution_count": 4,
   "metadata": {},
   "outputs": [],
   "source": [
    "def blank_as_null(x):\n",
    "    return when(col(x) != ' ', col(x)).otherwise(np.nan)"
   ]
  },
  {
   "cell_type": "code",
   "execution_count": 5,
   "metadata": {},
   "outputs": [],
   "source": [
    "# pandas data frame after adding column metadata\n",
    "#pndf type = pyspark.sql.dataframe.DataFrame\n",
    "pndf = df.select(\n",
    "    df.value.substr(9,4).cast(IntegerType()).alias('Birth_Year'),\n",
    "    df.value.substr(13,2).cast(IntegerType()).alias('Birth_Month'),\n",
    "    df.value.substr(75,2).cast(IntegerType()).alias('Mothers_Age'),\n",
    "    #df.value.substr(299,3).cast(IntegerType()).alias('Delivery_Weight_lbs'),\n",
    "    df.value.substr(332,2).cast(IntegerType()).alias('Num_Prev_Cesareans'),\n",
    "    #435\n",
    "    df.value.substr(435,1).cast(IntegerType()).alias('Payment_Source'),\n",
    "    df.value.substr(436,1).cast(IntegerType()).alias('Payment_Recode'),\n",
    "    df.value.substr(444,2).cast(IntegerType()).alias('Five_Minute_APGAR_Score'),\n",
    "    df.value.substr(446,1).cast(IntegerType()).alias('Five_Minute_APGAR_Recode'),\n",
    "    df.value.substr(448,2).cast(IntegerType()).alias('Ten_Minute_APGAR_Score'),\n",
    "    df.value.substr(450,1).cast(IntegerType()).alias('Ten_Minute_APGAR_Recode'),\n",
    "    df.value.substr(454,1).cast(IntegerType()).alias('Plurality'),\n",
    "#     df.value.substr(456,1).cast(IntegerType()).alias('Plurality_Imputed'),\n",
    "    df.value.substr(475,1).cast(StringType()).alias('Sex_Of_Infant'),\n",
    "#     df.value.substr(476,1).cast(IntegerType()).alias('Imputed_Sex'),\n",
    "    df.value.substr(477,2).cast(IntegerType()).alias('Last_Normal_Menses_Month'),\n",
    "    df.value.substr(481,4).cast(IntegerType()).alias('Last_Normal_Menses_Year'),\n",
    "#     df.value.substr(488,4).cast(IntegerType()).alias('Combined_Gestation_Imputed'),\n",
    "    df.value.substr(489,1).cast(IntegerType()).alias('Obstetric_Estimate_of_Gestation_Used_Flag'),\n",
    "    df.value.substr(490,2).cast(IntegerType()).alias('Combined_Gestation_Detail_in_Weeks'),\n",
    "    df.value.substr(492,1).cast(IntegerType()).alias('Combined_Gestation_Recode_Weeks'),\n",
    "    df.value.substr(509,2).cast(IntegerType()).alias('Birth_Weight_Recode_14'),\n",
    "    df.value.substr(511,1).cast(IntegerType()).alias('Birth_Weight_Recode_4'),\n",
    "    df.value.substr(512,4).cast(IntegerType()).alias('Imputed_Birthwieght'),\n",
    "    #Abnormal Conditions of the Newborn\n",
    "    df.value.substr(517,1).cast(StringType()).alias('Assisted_Ventilation'),\n",
    "    df.value.substr(518,1).cast(StringType()).alias('Assisted_Ventilation_Greater_Than_6_Hours'),\n",
    "    df.value.substr(519,1).cast(StringType()).alias('Admission_to_NICU'),\n",
    "    df.value.substr(520,1).cast(StringType()).alias('Surfactant'),\n",
    "    df.value.substr(521,1).cast(StringType()).alias('Antibiotics'),\n",
    "    df.value.substr(522,1).cast(StringType()).alias('Seizures'),\n",
    "    df.value.substr(531,1).cast(IntegerType()).alias('No_Abnormal_Conditions_Checked'),\n",
    "    #\n",
    "    #Congenital Anomalies of the Newborn\n",
    "    df.value.substr(537,1).cast(StringType()).alias('Anencephaly'),\n",
    "    df.value.substr(538,1).cast(StringType()).alias('Meningomyelocele_or_Spina_Bifida'),\n",
    "    df.value.substr(539,1).cast(StringType()).alias('Cyanotic_Congenital_Heart_Disease'),\n",
    "    df.value.substr(540,1).cast(StringType()).alias('Congenital_Diaphragmatic_Hernia'),\n",
    "    df.value.substr(541,1).cast(StringType()).alias('Omphalocele'),\n",
    "    df.value.substr(542,1).cast(StringType()).alias('Gastroschisis'),\n",
    "    df.value.substr(549,1).cast(StringType()).alias('Limb_Reduction_Defect'),\n",
    "    df.value.substr(550,1).cast(StringType()).alias('Cleft_Lip_w_or_wo_Cleft_Palate'),\n",
    "    df.value.substr(551,1).cast(StringType()).alias('Cleft_Palate_alone'),\n",
    "    df.value.substr(553,1).cast(StringType()).alias('Suspected_Chromosomal_Disorder'),\n",
    "    df.value.substr(554,1).cast(StringType()).alias('Hypospadias'),\n",
    "    df.value.substr(561,1).cast(IntegerType()).alias('No_Congenital_Anomalies_Checked'),\n",
    "    #\n",
    "    df.value.substr(568,1).cast(StringType()).alias('Infant_Living_at_Time_of_Report'),\n",
    "    df.value.substr(569,1).cast(StringType()).alias('Infant_Being_Breastfed')\n",
    "    #870\n",
    "    \n",
    ").withColumn(\"id\", monotonically_increasing_id())\n",
    "\n",
    "pndf.printSchema\n",
    "pndf = pndf.na.fill({'Num_Prev_Cesareans': 0.0})\n",
    "#pndf = pndf.withColumn(\"Infant_Living\", blank_as_null(\"Infant_Living\"))"
   ]
  },
  {
   "cell_type": "code",
   "execution_count": 6,
   "metadata": {},
   "outputs": [
    {
     "data": {
      "text/plain": [
       "[Row(Birth_Year=2013, Birth_Month=7, Mothers_Age=24, Num_Prev_Cesareans=0, Payment_Source=2, Payment_Recode=2, Five_Minute_APGAR_Score=9, Five_Minute_APGAR_Recode=4, Ten_Minute_APGAR_Score=88, Ten_Minute_APGAR_Recode=5, Plurality=1, Sex_Of_Infant='F', Last_Normal_Menses_Month=10, Last_Normal_Menses_Year=2012, Obstetric_Estimate_of_Gestation_Used_Flag=None, Combined_Gestation_Detail_in_Weeks=42, Combined_Gestation_Recode_Weeks=1, Birth_Weight_Recode_14=11, Birth_Weight_Recode_4=3, Imputed_Birthwieght=4119, Assisted_Ventilation='N', Assisted_Ventilation_Greater_Than_6_Hours='N', Admission_to_NICU='N', Surfactant='N', Antibiotics='N', Seizures='N', No_Abnormal_Conditions_Checked=1, Anencephaly='N', Meningomyelocele_or_Spina_Bifida='N', Cyanotic_Congenital_Heart_Disease='N', Congenital_Diaphragmatic_Hernia='N', Omphalocele='N', Gastroschisis='N', Limb_Reduction_Defect='N', Cleft_Lip_w_or_wo_Cleft_Palate='N', Cleft_Palate_alone='N', Suspected_Chromosomal_Disorder='N', Hypospadias='N', No_Congenital_Anomalies_Checked=1, Infant_Living_at_Time_of_Report='Y', Infant_Being_Breastfed='Y', id=0, Gastroschisis_numeric=0.0, Antibiotics_numeric=0.0, Seizures_numeric=0.0, Infant_Being_Breastfed_numeric=1.0, Anencephaly_numeric=0.0, Cleft_Palate_alone_numeric=0.0, Hypospadias_numeric=0.0, Admission_to_NICU_numeric=0.0, Infant_Living_at_Time_of_Report_numeric=0.0, Surfactant_numeric=0.0, Omphalocele_numeric=0.0, Cleft_Lip_w_or_wo_Cleft_Palate_numeric=0.0, id_numeric=15815.0, Limb_Reduction_Defect_numeric=0.0, Congenital_Diaphragmatic_Hernia_numeric=0.0, Assisted_Ventilation_Greater_Than_6_Hours_numeric=0.0, Cyanotic_Congenital_Heart_Disease_numeric=0.0, Meningomyelocele_or_Spina_Bifida_numeric=0.0, Suspected_Chromosomal_Disorder_numeric=0.0, Assisted_Ventilation_numeric=0.0, Sex_Of_Infant_numeric=1.0)]"
      ]
     },
     "execution_count": 6,
     "metadata": {},
     "output_type": "execute_result"
    }
   ],
   "source": [
    "from pyspark.ml.feature import StringIndexer\n",
    "from pyspark.ml import Pipeline\n",
    "\n",
    "# indexers = [StringIndexer(inputCol=column, outputCol=column+\"_index\").fit(pndf) for column in list(set(pndf.columns)-set(['Five_Minute_APGAR_Score'])) ]\n",
    "indexers = [StringIndexer(inputCol=column, outputCol=column+\"_numeric\").fit(pndf) for column in list(  set(pndf.columns) - set(['Birth_Year', 'Birth_Month', 'Mothers_Age', 'Delivery_Weight_lbs', 'Num_Prev_Cesareans', 'Payment_Source', 'Payment_Recode', 'Five_Minute_APGAR_Score', 'Five_Minute_APGAR_Recode', 'Ten_Minute_APGAR_Score', 'Ten_Minute_APGAR_Recode', 'Plurality', 'Plurality_Imputed', 'Imputed_Sex', 'Last_Normal_Menses_Month', 'Last_Normal_Menses_Year', 'Combined_Gestation_Imputed', 'Obstetric_Estimate_of_Gestation_Used_Flag', 'Combined_Gestation_Detail_in_Weeks', 'Combined_Gestation_Recode_Weeks', 'Birth_Weight_Recode_14', 'Birth_Weight_Recode_4', 'Imputed_Birthwieght', 'No_Abnormal_Conditions_Checked', 'No_Congenital_Anomalies_Checked'])) ]\n",
    "pipeline = Pipeline(stages=indexers)\n",
    "pndf = pipeline.fit(pndf).transform(pndf)\n",
    "# drop_list = {'Sex_of_Infant', 'Assisted_Ventilation', 'Assisted_Ventilation_Greater_Than_6_Hours','Admission_to_NICU',\n",
    "#             'Surfactant', 'Antibiotics', 'Seizures', 'Anencephaly', 'Meningomyelocele_or_Spina_Bifida', 'Cyanotic_Congenital_Heart_Disease',\n",
    "#             'Congenital_Diaphragmatic_Hernia', 'Omphalocele', 'Gastroschisis', 'Limb_Reduction_Defect', 'Cleft_Lip_w_or_wo_Cleft_Palate',\n",
    "#             'Cleft_Palate_alone', 'Suspected_Chromosomal_Disorder', 'Hypospadias', 'Infant_Living_at_Time_of_Report', 'Infant_Being_Breastfed'}\n",
    "\n",
    "# print(pndf.select([column for column in pndf.columns if column not in drop_list]))\n",
    "# # pndf.drop(df.Sex_of_Infant).collect()\n",
    "# pndf.drop('Sex_of_Infant')\n",
    "# # print(pndf.columns)\n",
    "# pndf.show()\n",
    "\n",
    "# pca_cols = list(set(pca_cols).difference(set(drop_list)))\n",
    "# stringIndexer = StringIndexer(inputCol=\"Infant_Living_at_Time_of_Report\", outputCol='Infant_Living_Index')\n",
    "# pndf = stringIndexer.fit(pndf).transform(pndf)\n",
    "pndf.head(1)"
   ]
  },
  {
   "cell_type": "code",
   "execution_count": 7,
   "metadata": {},
   "outputs": [
    {
     "data": {
      "text/plain": [
       "Row(Birth_Year=2013, Birth_Month=12, Mothers_Age=30, Num_Prev_Cesareans=0, Payment_Source=1, Payment_Recode=1, Five_Minute_APGAR_Score=0, Five_Minute_APGAR_Recode=1, Ten_Minute_APGAR_Score=0, Ten_Minute_APGAR_Recode=1, Plurality=1, Sex_Of_Infant='M', Last_Normal_Menses_Month=99, Last_Normal_Menses_Year=9999, Obstetric_Estimate_of_Gestation_Used_Flag=1, Combined_Gestation_Detail_in_Weeks=25, Combined_Gestation_Recode_Weeks=0, Birth_Weight_Recode_14=3, Birth_Weight_Recode_4=1, Imputed_Birthwieght=964, Assisted_Ventilation='Y', Assisted_Ventilation_Greater_Than_6_Hours='N', Admission_to_NICU='Y', Surfactant='Y', Antibiotics='Y', Seizures='N', No_Abnormal_Conditions_Checked=0, Anencephaly='N', Meningomyelocele_or_Spina_Bifida='N', Cyanotic_Congenital_Heart_Disease='N', Congenital_Diaphragmatic_Hernia='N', Omphalocele='N', Gastroschisis='N', Limb_Reduction_Defect='N', Cleft_Lip_w_or_wo_Cleft_Palate='N', Cleft_Palate_alone='N', Suspected_Chromosomal_Disorder='N', Hypospadias='N', No_Congenital_Anomalies_Checked=1, Infant_Living_at_Time_of_Report='Y', Infant_Being_Breastfed='N', id=10, Gastroschisis_numeric=0.0, Antibiotics_numeric=1.0, Seizures_numeric=0.0, Infant_Being_Breastfed_numeric=0.0, Anencephaly_numeric=0.0, Cleft_Palate_alone_numeric=0.0, Hypospadias_numeric=0.0, Admission_to_NICU_numeric=1.0, Infant_Living_at_Time_of_Report_numeric=0.0, Surfactant_numeric=1.0, Omphalocele_numeric=0.0, Cleft_Lip_w_or_wo_Cleft_Palate_numeric=0.0, id_numeric=8578.0, Limb_Reduction_Defect_numeric=0.0, Congenital_Diaphragmatic_Hernia_numeric=0.0, Assisted_Ventilation_Greater_Than_6_Hours_numeric=0.0, Cyanotic_Congenital_Heart_Disease_numeric=0.0, Meningomyelocele_or_Spina_Bifida_numeric=0.0, Suspected_Chromosomal_Disorder_numeric=0.0, Assisted_Ventilation_numeric=1.0, Sex_Of_Infant_numeric=0.0, features=SparseVector(43, {0: 2013.0, 1: 12.0, 2: 30.0, 4: 1.0, 5: 1.0, 7: 1.0, 9: 1.0, 10: 1.0, 11: 99.0, 12: 9999.0, 13: 1.0, 14: 25.0, 16: 3.0, 17: 1.0, 18: 964.0, 20: 1.0, 21: 10.0, 23: 1.0, 29: 1.0, 31: 1.0, 34: 8578.0, 41: 1.0}))"
      ]
     },
     "execution_count": 7,
     "metadata": {},
     "output_type": "execute_result"
    }
   ],
   "source": [
    "from pyspark.ml.feature import VectorAssembler\n",
    "\n",
    "drop_list = ['Sex_Of_Infant', 'Assisted_Ventilation', 'Assisted_Ventilation_Greater_Than_6_Hours','Admission_to_NICU',\n",
    "            'Surfactant', 'Antibiotics', 'Seizures', 'Anencephaly', 'Meningomyelocele_or_Spina_Bifida', 'Cyanotic_Congenital_Heart_Disease',\n",
    "            'Congenital_Diaphragmatic_Hernia', 'Omphalocele', 'Gastroschisis', 'Limb_Reduction_Defect', 'Cleft_Lip_w_or_wo_Cleft_Palate',\n",
    "            'Cleft_Palate_alone', 'Suspected_Chromosomal_Disorder', 'Hypospadias', 'Infant_Living_at_Time_of_Report', 'Infant_Being_Breastfed']\n",
    "\n",
    "\n",
    "pca_cols = pndf.columns\n",
    "pca_cols = [e for e in pca_cols if e not in drop_list]\n",
    "\n",
    "pndf.na.drop()\n",
    "assembler = VectorAssembler(inputCols=pca_cols, outputCol='features')\n",
    "vector_df = assembler.transform(pndf.na.drop())\n",
    "vector_df.head()"
   ]
  },
  {
   "cell_type": "markdown",
   "metadata": {},
   "source": [
    "### Scaling and Normalization"
   ]
  },
  {
   "cell_type": "code",
   "execution_count": 8,
   "metadata": {},
   "outputs": [
    {
     "data": {
      "text/plain": [
       "Row(Birth_Year=2013, Birth_Month=12, Mothers_Age=30, Num_Prev_Cesareans=0, Payment_Source=1, Payment_Recode=1, Five_Minute_APGAR_Score=0, Five_Minute_APGAR_Recode=1, Ten_Minute_APGAR_Score=0, Ten_Minute_APGAR_Recode=1, Plurality=1, Sex_Of_Infant='M', Last_Normal_Menses_Month=99, Last_Normal_Menses_Year=9999, Obstetric_Estimate_of_Gestation_Used_Flag=1, Combined_Gestation_Detail_in_Weeks=25, Combined_Gestation_Recode_Weeks=0, Birth_Weight_Recode_14=3, Birth_Weight_Recode_4=1, Imputed_Birthwieght=964, Assisted_Ventilation='Y', Assisted_Ventilation_Greater_Than_6_Hours='N', Admission_to_NICU='Y', Surfactant='Y', Antibiotics='Y', Seizures='N', No_Abnormal_Conditions_Checked=0, Anencephaly='N', Meningomyelocele_or_Spina_Bifida='N', Cyanotic_Congenital_Heart_Disease='N', Congenital_Diaphragmatic_Hernia='N', Omphalocele='N', Gastroschisis='N', Limb_Reduction_Defect='N', Cleft_Lip_w_or_wo_Cleft_Palate='N', Cleft_Palate_alone='N', Suspected_Chromosomal_Disorder='N', Hypospadias='N', No_Congenital_Anomalies_Checked=1, Infant_Living_at_Time_of_Report='Y', Infant_Being_Breastfed='N', id=10, Gastroschisis_numeric=0.0, Antibiotics_numeric=1.0, Seizures_numeric=0.0, Infant_Being_Breastfed_numeric=0.0, Anencephaly_numeric=0.0, Cleft_Palate_alone_numeric=0.0, Hypospadias_numeric=0.0, Admission_to_NICU_numeric=1.0, Infant_Living_at_Time_of_Report_numeric=0.0, Surfactant_numeric=1.0, Omphalocele_numeric=0.0, Cleft_Lip_w_or_wo_Cleft_Palate_numeric=0.0, id_numeric=8578.0, Limb_Reduction_Defect_numeric=0.0, Congenital_Diaphragmatic_Hernia_numeric=0.0, Assisted_Ventilation_Greater_Than_6_Hours_numeric=0.0, Cyanotic_Congenital_Heart_Disease_numeric=0.0, Meningomyelocele_or_Spina_Bifida_numeric=0.0, Suspected_Chromosomal_Disorder_numeric=0.0, Assisted_Ventilation_numeric=1.0, Sex_Of_Infant_numeric=0.0, features=SparseVector(43, {0: 2013.0, 1: 12.0, 2: 30.0, 4: 1.0, 5: 1.0, 7: 1.0, 9: 1.0, 10: 1.0, 11: 99.0, 12: 9999.0, 13: 1.0, 14: 25.0, 16: 3.0, 17: 1.0, 18: 964.0, 20: 1.0, 21: 10.0, 23: 1.0, 29: 1.0, 31: 1.0, 34: 8578.0, 41: 1.0}), scaledFeatures=SparseVector(43, {0: 7000.9977, 1: 3.4929, 2: 4.7744, 4: 0.5219, 5: 0.6229, 7: 0.723, 9: 0.5276, 10: 2.3524, 11: 2.7646, 12: 2.9989, 13: 0.0, 14: 3.4149, 16: 0.9398, 17: 1.2068, 18: 0.8376, 20: 0.6584, 21: 0.0, 23: 2.01, 29: 1.6543, 31: 2.0745, 34: 1.29, 41: 1.7712}))"
      ]
     },
     "execution_count": 8,
     "metadata": {},
     "output_type": "execute_result"
    }
   ],
   "source": [
    "from pyspark.ml.feature import StandardScaler\n",
    "scaler = StandardScaler(inputCol='features', \n",
    "                        outputCol='scaledFeatures', withMean=False, withStd=True) # TODO: should withMean be True??\n",
    "scaled_df = scaler.fit(vector_df).transform(vector_df)\n",
    "scaled_df.head()"
   ]
  },
  {
   "cell_type": "code",
   "execution_count": 9,
   "metadata": {},
   "outputs": [
    {
     "data": {
      "text/plain": [
       "Row(Birth_Year=2013, Birth_Month=12, Mothers_Age=30, Num_Prev_Cesareans=0, Payment_Source=1, Payment_Recode=1, Five_Minute_APGAR_Score=0, Five_Minute_APGAR_Recode=1, Ten_Minute_APGAR_Score=0, Ten_Minute_APGAR_Recode=1, Plurality=1, Sex_Of_Infant='M', Last_Normal_Menses_Month=99, Last_Normal_Menses_Year=9999, Obstetric_Estimate_of_Gestation_Used_Flag=1, Combined_Gestation_Detail_in_Weeks=25, Combined_Gestation_Recode_Weeks=0, Birth_Weight_Recode_14=3, Birth_Weight_Recode_4=1, Imputed_Birthwieght=964, Assisted_Ventilation='Y', Assisted_Ventilation_Greater_Than_6_Hours='N', Admission_to_NICU='Y', Surfactant='Y', Antibiotics='Y', Seizures='N', No_Abnormal_Conditions_Checked=0, Anencephaly='N', Meningomyelocele_or_Spina_Bifida='N', Cyanotic_Congenital_Heart_Disease='N', Congenital_Diaphragmatic_Hernia='N', Omphalocele='N', Gastroschisis='N', Limb_Reduction_Defect='N', Cleft_Lip_w_or_wo_Cleft_Palate='N', Cleft_Palate_alone='N', Suspected_Chromosomal_Disorder='N', Hypospadias='N', No_Congenital_Anomalies_Checked=1, Infant_Living_at_Time_of_Report='Y', Infant_Being_Breastfed='N', id=10, Gastroschisis_numeric=0.0, Antibiotics_numeric=1.0, Seizures_numeric=0.0, Infant_Being_Breastfed_numeric=0.0, Anencephaly_numeric=0.0, Cleft_Palate_alone_numeric=0.0, Hypospadias_numeric=0.0, Admission_to_NICU_numeric=1.0, Infant_Living_at_Time_of_Report_numeric=0.0, Surfactant_numeric=1.0, Omphalocele_numeric=0.0, Cleft_Lip_w_or_wo_Cleft_Palate_numeric=0.0, id_numeric=8578.0, Limb_Reduction_Defect_numeric=0.0, Congenital_Diaphragmatic_Hernia_numeric=0.0, Assisted_Ventilation_Greater_Than_6_Hours_numeric=0.0, Cyanotic_Congenital_Heart_Disease_numeric=0.0, Meningomyelocele_or_Spina_Bifida_numeric=0.0, Suspected_Chromosomal_Disorder_numeric=0.0, Assisted_Ventilation_numeric=1.0, Sex_Of_Infant_numeric=0.0, features=SparseVector(43, {0: 2013.0, 1: 12.0, 2: 30.0, 4: 1.0, 5: 1.0, 7: 1.0, 9: 1.0, 10: 1.0, 11: 99.0, 12: 9999.0, 13: 1.0, 14: 25.0, 16: 3.0, 17: 1.0, 18: 964.0, 20: 1.0, 21: 10.0, 23: 1.0, 29: 1.0, 31: 1.0, 34: 8578.0, 41: 1.0}), scaledFeatures=SparseVector(43, {0: 7000.9977, 1: 3.4929, 2: 4.7744, 4: 0.5219, 5: 0.6229, 7: 0.723, 9: 0.5276, 10: 2.3524, 11: 2.7646, 12: 2.9989, 13: 0.0, 14: 3.4149, 16: 0.9398, 17: 1.2068, 18: 0.8376, 20: 0.6584, 21: 0.0, 23: 2.01, 29: 1.6543, 31: 2.0745, 34: 1.29, 41: 1.7712}), normalizeFeatures=SparseVector(43, {0: 0.9951, 1: 0.0005, 2: 0.0007, 4: 0.0001, 5: 0.0001, 7: 0.0001, 9: 0.0001, 10: 0.0003, 11: 0.0004, 12: 0.0004, 13: 0.0, 14: 0.0005, 16: 0.0001, 17: 0.0002, 18: 0.0001, 20: 0.0001, 21: 0.0, 23: 0.0003, 29: 0.0002, 31: 0.0003, 34: 0.0002, 41: 0.0003}))"
      ]
     },
     "execution_count": 9,
     "metadata": {},
     "output_type": "execute_result"
    }
   ],
   "source": [
    "from pyspark.ml.feature import Normalizer\n",
    "nrmlzer = Normalizer(inputCol='scaledFeatures', outputCol='normalizeFeatures', p=1.0)\n",
    "l1Normalized = nrmlzer.transform(scaled_df)\n",
    "l1Normalized.head()"
   ]
  },
  {
   "cell_type": "markdown",
   "metadata": {},
   "source": [
    "### Dimensionality Reduction: PCA"
   ]
  },
  {
   "cell_type": "code",
   "execution_count": 10,
   "metadata": {},
   "outputs": [
    {
     "name": "stdout",
     "output_type": "stream",
     "text": [
      "+------------------------------------------------------------------------------------+\n",
      "|features_pca                                                                        |\n",
      "+------------------------------------------------------------------------------------+\n",
      "|[-0.9773906524390217,0.05025056921897018,0.02195834976615432,-0.061329670995928745] |\n",
      "|[-0.9774646996160999,0.050171893164933624,0.02218523129324467,-0.0610788982575477]  |\n",
      "|[-0.9758110964779552,0.049409839402227505,0.02234098722348654,-0.061229296345224955]|\n",
      "|[-0.9757377918591028,0.04970255599909392,0.022200371318900278,-0.061021684925443916]|\n",
      "|[-0.9759353825070085,0.04970956691001368,0.022185242979935016,-0.06091589992850187] |\n",
      "|[-0.9777686007037071,0.05000521836032045,0.0222233366139892,-0.061410655762089164]  |\n",
      "|[-0.9757855758507324,0.049479657677946896,0.02231091434692497,-0.061166216721117064]|\n",
      "|[-0.9756880064575638,0.04948736834263715,0.022300402960926995,-0.06103840703773347] |\n",
      "|[-0.9756676225831385,0.04947396835266351,0.022315078003934768,-0.061175514127853825]|\n",
      "|[-0.9766810266625893,0.0495967139401651,0.022294060052763277,-0.06135620947733111]  |\n",
      "|[-0.9761469166226042,0.04952776887889167,0.022312008257290288,-0.06113020111570112] |\n",
      "|[-0.9767603408887721,0.04991832979499917,0.022208827583328417,-0.06099189548184848] |\n",
      "|[-0.9747093257426884,0.049670914099703034,0.022350443775062578,-0.06104108046047206]|\n",
      "|[-0.9764283404177804,0.04954416344237473,0.02233416377895041,-0.061253112529375285] |\n",
      "|[-0.976310659818144,0.04952628430684783,0.02233786174511186,-0.06125330078154812]   |\n",
      "|[-0.9759573811941934,0.04948988870848809,0.0223252723173471,-0.06120161103543695]   |\n",
      "|[-0.9617810093915748,0.05031063863916727,0.02176134563806052,-0.061716171452556375] |\n",
      "|[-0.9669657091138724,0.05074439348778307,0.023278125342326587,-0.060361699538138795]|\n",
      "|[-0.9780771772436909,0.05021925793694872,0.022206805047796235,-0.0611982904702746]  |\n",
      "|[-0.9759060706405908,0.049493024663472183,0.02220250463507481,-0.06130825054828467] |\n",
      "+------------------------------------------------------------------------------------+\n",
      "only showing top 20 rows\n",
      "\n"
     ]
    }
   ],
   "source": [
    "from pyspark.ml.feature import PCA\n",
    "num_principal_comp = 4\n",
    "pca = PCA(k=num_principal_comp, inputCol='normalizeFeatures', outputCol='features_pca')\n",
    "pca_model = pca.fit(l1Normalized)\n",
    "pca_feat = pca_model.transform(l1Normalized).select('features_pca')\n",
    "pca_feat.show(truncate=False)"
   ]
  },
  {
   "cell_type": "code",
   "execution_count": null,
   "metadata": {},
   "outputs": [],
   "source": []
  }
 ],
 "metadata": {
  "kernelspec": {
   "display_name": "Python 3",
   "language": "python",
   "name": "python3"
  },
  "language_info": {
   "codemirror_mode": {
    "name": "ipython",
    "version": 3
   },
   "file_extension": ".py",
   "mimetype": "text/x-python",
   "name": "python",
   "nbconvert_exporter": "python",
   "pygments_lexer": "ipython3",
   "version": "3.6.3"
  }
 },
 "nbformat": 4,
 "nbformat_minor": 1
}
